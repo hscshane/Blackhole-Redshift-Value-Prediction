{
 "cells": [
  {
   "cell_type": "markdown",
   "metadata": {},
   "source": [
    "<h1> <center><font color='green' > <b>AGN Redshift Predicetion for AGNDB</b></font> </center></h1>\n",
    "\n",
    "# Model Building\n",
    "by Sicong Huang <br> \\\n",
    "<font color='blue'>Python Version: 3.6.5 <br>\n",
    "AGNDB Version: 1.1.0"
   ]
  },
  {
   "cell_type": "markdown",
   "metadata": {},
   "source": [
    "# THE QUESTION: <br><font color='green'>How to use ML methods to predict photometric redshift for agns in AGNDB?</font>"
   ]
  },
  {
   "cell_type": "markdown",
   "metadata": {},
   "source": [
    "# GOAL of the modeling\n",
    "<font color='green'>Build models to predict redshift based on magnitudes"
   ]
  },
  {
   "cell_type": "markdown",
   "metadata": {},
   "source": [
    "# Model Selection:\n",
    "<font color='green'>__Machine learning & deep learning__:\n",
    "- Multiple Linear Regression\n",
    "- Random Forest\n",
    "- k-Nearest Neighbour\n",
    "- Neural Network"
   ]
  },
  {
   "cell_type": "markdown",
   "metadata": {},
   "source": [
    "# IMPORT LIBRARIES"
   ]
  },
  {
   "cell_type": "code",
   "execution_count": 99,
   "metadata": {},
   "outputs": [],
   "source": [
    "# System\n",
    "import os\n",
    "import glob\n",
    "from tqdm import tqdm\n",
    "from IPython.display import Markdown, display, Audio\n",
    "import joblib\n",
    "\n",
    "# Web Scraping\n",
    "\n",
    "# Data Analysis\n",
    "import pandas as pd\n",
    "import numpy as np\n",
    "from math import sqrt\n",
    "\n",
    "# Machine Learning\n",
    "from sklearn import linear_model, neighbors\n",
    "from sklearn.preprocessing import PolynomialFeatures\n",
    "from sklearn.ensemble import RandomForestRegressor\n",
    "from sklearn.metrics import mean_squared_error, mean_absolute_error\n",
    "from sklearn.model_selection import GridSearchCV\n",
    "\n",
    "# Neural Network\n",
    "from tensorflow import keras\n",
    "from keras.layers import Input, Dense, Activation, Flatten\n",
    "from keras.models import Model\n",
    "\n",
    "# Data Visualization\n",
    "import matplotlib.pyplot as plt\n",
    "from matplotlib.pyplot import imshow\n",
    "import seaborn as sns\n",
    "\n",
    "pd.options.display.float_format = '{:,.2f}'.format\n",
    "%matplotlib inline"
   ]
  },
  {
   "cell_type": "markdown",
   "metadata": {},
   "source": [
    "# Functions"
   ]
  },
  {
   "cell_type": "code",
   "execution_count": 2,
   "metadata": {},
   "outputs": [],
   "source": [
    "def sound_effect(fail=0):\n",
    "    \"\"\"\n",
    "    Play a sound when job is finished\n",
    "    \"\"\"\n",
    "    if fail == 0:\n",
    "        sound_file = '/data/home/sicong/sounds/jobs-done_1.mp3'\n",
    "        display(Audio(sound_file, autoplay=True))\n",
    "    else:\n",
    "        sound_file = '/data/home/sicong/sounds/oh-shit-im-sorry_0001.mp3'\n",
    "        display(Audio(sound_file, autoplay=True))"
   ]
  },
  {
   "cell_type": "code",
   "execution_count": 3,
   "metadata": {},
   "outputs": [],
   "source": [
    "def printmd(string):\n",
    "    \"\"\"\n",
    "    print in markdown style\n",
    "    \"\"\"\n",
    "    display(Markdown(string))"
   ]
  },
  {
   "cell_type": "code",
   "execution_count": 4,
   "metadata": {},
   "outputs": [],
   "source": [
    "def accuracy(y_true, y_pred):\n",
    "    \"\"\"\n",
    "    calculate the accuracy based on mean absolute percentage error\n",
    "    \"\"\"\n",
    "    # Calculate the absolute errors\n",
    "    errors = abs(y_pred - y_true)\n",
    "\n",
    "    # Calculate mean absolute percentage error (MAPE)\n",
    "    mape = 100 * (errors / y_true)\n",
    "    # Calculate and display accuracy\n",
    "    accuracy = 100 - np.mean(mape)\n",
    "    accuracy = str(round(accuracy, 2))+'%' \n",
    "    return accuracy "
   ]
  },
  {
   "cell_type": "markdown",
   "metadata": {},
   "source": [
    "# Data Understanding:"
   ]
  },
  {
   "cell_type": "markdown",
   "metadata": {},
   "source": [
    "## Known Issues:\n",
    "\n",
    "<ul>\n",
    "  <font color='green'><li>Limited number of magnitude columns</li></font>\n",
    "    <ul><li>Get more data</li></ul>    \n",
    "  <font color='green'><li>Redshift error data is insufficient.</li></font>  \n",
    "    <ul><li>Estimation on bias may be inaccurate</li></ul>\n",
    "</ul>"
   ]
  },
  {
   "cell_type": "markdown",
   "metadata": {},
   "source": [
    "## Read train/dev/test sets"
   ]
  },
  {
   "cell_type": "code",
   "execution_count": 5,
   "metadata": {},
   "outputs": [],
   "source": [
    "df_train = pd.read_pickle('agnz_train.pkl')\n",
    "df_dev = pd.read_pickle('agnz_dev.pkl')"
   ]
  },
  {
   "cell_type": "code",
   "execution_count": 6,
   "metadata": {},
   "outputs": [
    {
     "data": {
      "text/html": [
       "<div>\n",
       "<style scoped>\n",
       "    .dataframe tbody tr th:only-of-type {\n",
       "        vertical-align: middle;\n",
       "    }\n",
       "\n",
       "    .dataframe tbody tr th {\n",
       "        vertical-align: top;\n",
       "    }\n",
       "\n",
       "    .dataframe thead th {\n",
       "        text-align: right;\n",
       "    }\n",
       "</style>\n",
       "<table border=\"1\" class=\"dataframe\">\n",
       "  <thead>\n",
       "    <tr style=\"text-align: right;\">\n",
       "      <th></th>\n",
       "      <th>RA</th>\n",
       "      <th>DEC</th>\n",
       "      <th>best_z</th>\n",
       "      <th>best_z_error</th>\n",
       "      <th>i_mag</th>\n",
       "      <th>r_mag</th>\n",
       "      <th>z_mag</th>\n",
       "      <th>u_mag</th>\n",
       "      <th>g_mag</th>\n",
       "      <th>W1_mag</th>\n",
       "      <th>W2_mag</th>\n",
       "      <th>W4_mag</th>\n",
       "      <th>W3_mag</th>\n",
       "    </tr>\n",
       "  </thead>\n",
       "  <tbody>\n",
       "    <tr>\n",
       "      <th>count</th>\n",
       "      <td>70,528.00</td>\n",
       "      <td>70,528.00</td>\n",
       "      <td>70,528.00</td>\n",
       "      <td>69,707.00</td>\n",
       "      <td>70,528.00</td>\n",
       "      <td>70,528.00</td>\n",
       "      <td>70,528.00</td>\n",
       "      <td>70,528.00</td>\n",
       "      <td>70,528.00</td>\n",
       "      <td>70,528.00</td>\n",
       "      <td>70,528.00</td>\n",
       "      <td>70,528.00</td>\n",
       "      <td>70,528.00</td>\n",
       "    </tr>\n",
       "    <tr>\n",
       "      <th>mean</th>\n",
       "      <td>207.63</td>\n",
       "      <td>26.53</td>\n",
       "      <td>1.73</td>\n",
       "      <td>0.00</td>\n",
       "      <td>19.98</td>\n",
       "      <td>20.08</td>\n",
       "      <td>19.86</td>\n",
       "      <td>21.01</td>\n",
       "      <td>20.27</td>\n",
       "      <td>18.92</td>\n",
       "      <td>18.54</td>\n",
       "      <td>15.36</td>\n",
       "      <td>17.01</td>\n",
       "    </tr>\n",
       "    <tr>\n",
       "      <th>std</th>\n",
       "      <td>76.59</td>\n",
       "      <td>19.42</td>\n",
       "      <td>0.81</td>\n",
       "      <td>0.00</td>\n",
       "      <td>1.09</td>\n",
       "      <td>1.07</td>\n",
       "      <td>1.08</td>\n",
       "      <td>1.58</td>\n",
       "      <td>1.10</td>\n",
       "      <td>1.04</td>\n",
       "      <td>1.13</td>\n",
       "      <td>0.50</td>\n",
       "      <td>0.81</td>\n",
       "    </tr>\n",
       "    <tr>\n",
       "      <th>min</th>\n",
       "      <td>1.25</td>\n",
       "      <td>-21.80</td>\n",
       "      <td>0.01</td>\n",
       "      <td>0.00</td>\n",
       "      <td>14.52</td>\n",
       "      <td>14.94</td>\n",
       "      <td>10.00</td>\n",
       "      <td>10.00</td>\n",
       "      <td>10.00</td>\n",
       "      <td>12.56</td>\n",
       "      <td>12.20</td>\n",
       "      <td>9.93</td>\n",
       "      <td>10.97</td>\n",
       "    </tr>\n",
       "    <tr>\n",
       "      <th>25%</th>\n",
       "      <td>178.71</td>\n",
       "      <td>10.38</td>\n",
       "      <td>1.06</td>\n",
       "      <td>0.00</td>\n",
       "      <td>19.16</td>\n",
       "      <td>19.33</td>\n",
       "      <td>19.08</td>\n",
       "      <td>19.92</td>\n",
       "      <td>19.52</td>\n",
       "      <td>18.25</td>\n",
       "      <td>17.78</td>\n",
       "      <td>15.12</td>\n",
       "      <td>16.55</td>\n",
       "    </tr>\n",
       "    <tr>\n",
       "      <th>50%</th>\n",
       "      <td>210.68</td>\n",
       "      <td>25.33</td>\n",
       "      <td>1.68</td>\n",
       "      <td>0.00</td>\n",
       "      <td>20.04</td>\n",
       "      <td>20.17</td>\n",
       "      <td>19.90</td>\n",
       "      <td>20.93</td>\n",
       "      <td>20.36</td>\n",
       "      <td>19.02</td>\n",
       "      <td>18.64</td>\n",
       "      <td>15.42</td>\n",
       "      <td>17.19</td>\n",
       "    </tr>\n",
       "    <tr>\n",
       "      <th>75%</th>\n",
       "      <td>237.20</td>\n",
       "      <td>43.23</td>\n",
       "      <td>2.31</td>\n",
       "      <td>0.00</td>\n",
       "      <td>20.76</td>\n",
       "      <td>20.88</td>\n",
       "      <td>20.57</td>\n",
       "      <td>21.90</td>\n",
       "      <td>21.08</td>\n",
       "      <td>19.71</td>\n",
       "      <td>19.39</td>\n",
       "      <td>15.68</td>\n",
       "      <td>17.58</td>\n",
       "    </tr>\n",
       "    <tr>\n",
       "      <th>max</th>\n",
       "      <td>360.00</td>\n",
       "      <td>83.92</td>\n",
       "      <td>6.97</td>\n",
       "      <td>0.26</td>\n",
       "      <td>24.73</td>\n",
       "      <td>25.00</td>\n",
       "      <td>24.63</td>\n",
       "      <td>27.50</td>\n",
       "      <td>27.50</td>\n",
       "      <td>22.36</td>\n",
       "      <td>21.38</td>\n",
       "      <td>16.79</td>\n",
       "      <td>18.85</td>\n",
       "    </tr>\n",
       "  </tbody>\n",
       "</table>\n",
       "</div>"
      ],
      "text/plain": [
       "             RA       DEC    best_z  best_z_error     i_mag     r_mag  \\\n",
       "count 70,528.00 70,528.00 70,528.00     69,707.00 70,528.00 70,528.00   \n",
       "mean     207.63     26.53      1.73          0.00     19.98     20.08   \n",
       "std       76.59     19.42      0.81          0.00      1.09      1.07   \n",
       "min        1.25    -21.80      0.01          0.00     14.52     14.94   \n",
       "25%      178.71     10.38      1.06          0.00     19.16     19.33   \n",
       "50%      210.68     25.33      1.68          0.00     20.04     20.17   \n",
       "75%      237.20     43.23      2.31          0.00     20.76     20.88   \n",
       "max      360.00     83.92      6.97          0.26     24.73     25.00   \n",
       "\n",
       "          z_mag     u_mag     g_mag    W1_mag    W2_mag    W4_mag    W3_mag  \n",
       "count 70,528.00 70,528.00 70,528.00 70,528.00 70,528.00 70,528.00 70,528.00  \n",
       "mean      19.86     21.01     20.27     18.92     18.54     15.36     17.01  \n",
       "std        1.08      1.58      1.10      1.04      1.13      0.50      0.81  \n",
       "min       10.00     10.00     10.00     12.56     12.20      9.93     10.97  \n",
       "25%       19.08     19.92     19.52     18.25     17.78     15.12     16.55  \n",
       "50%       19.90     20.93     20.36     19.02     18.64     15.42     17.19  \n",
       "75%       20.57     21.90     21.08     19.71     19.39     15.68     17.58  \n",
       "max       24.63     27.50     27.50     22.36     21.38     16.79     18.85  "
      ]
     },
     "execution_count": 6,
     "metadata": {},
     "output_type": "execute_result"
    }
   ],
   "source": [
    "df_train.describe()"
   ]
  },
  {
   "cell_type": "code",
   "execution_count": 7,
   "metadata": {},
   "outputs": [
    {
     "data": {
      "text/html": [
       "<div>\n",
       "<style scoped>\n",
       "    .dataframe tbody tr th:only-of-type {\n",
       "        vertical-align: middle;\n",
       "    }\n",
       "\n",
       "    .dataframe tbody tr th {\n",
       "        vertical-align: top;\n",
       "    }\n",
       "\n",
       "    .dataframe thead th {\n",
       "        text-align: right;\n",
       "    }\n",
       "</style>\n",
       "<table border=\"1\" class=\"dataframe\">\n",
       "  <thead>\n",
       "    <tr style=\"text-align: right;\">\n",
       "      <th></th>\n",
       "      <th>RA</th>\n",
       "      <th>DEC</th>\n",
       "      <th>best_z</th>\n",
       "      <th>best_z_error</th>\n",
       "      <th>i_mag</th>\n",
       "      <th>r_mag</th>\n",
       "      <th>z_mag</th>\n",
       "      <th>u_mag</th>\n",
       "      <th>g_mag</th>\n",
       "      <th>W1_mag</th>\n",
       "      <th>W2_mag</th>\n",
       "      <th>W4_mag</th>\n",
       "      <th>W3_mag</th>\n",
       "    </tr>\n",
       "  </thead>\n",
       "  <tbody>\n",
       "    <tr>\n",
       "      <th>count</th>\n",
       "      <td>17,632.00</td>\n",
       "      <td>17,632.00</td>\n",
       "      <td>17,632.00</td>\n",
       "      <td>17,447.00</td>\n",
       "      <td>17,632.00</td>\n",
       "      <td>17,632.00</td>\n",
       "      <td>17,632.00</td>\n",
       "      <td>17,632.00</td>\n",
       "      <td>17,632.00</td>\n",
       "      <td>17,632.00</td>\n",
       "      <td>17,632.00</td>\n",
       "      <td>17,632.00</td>\n",
       "      <td>17,632.00</td>\n",
       "    </tr>\n",
       "    <tr>\n",
       "      <th>mean</th>\n",
       "      <td>207.23</td>\n",
       "      <td>26.47</td>\n",
       "      <td>1.74</td>\n",
       "      <td>0.00</td>\n",
       "      <td>19.98</td>\n",
       "      <td>20.08</td>\n",
       "      <td>19.85</td>\n",
       "      <td>21.02</td>\n",
       "      <td>20.27</td>\n",
       "      <td>18.92</td>\n",
       "      <td>18.53</td>\n",
       "      <td>15.36</td>\n",
       "      <td>17.00</td>\n",
       "    </tr>\n",
       "    <tr>\n",
       "      <th>std</th>\n",
       "      <td>76.03</td>\n",
       "      <td>19.48</td>\n",
       "      <td>0.81</td>\n",
       "      <td>0.00</td>\n",
       "      <td>1.08</td>\n",
       "      <td>1.07</td>\n",
       "      <td>1.08</td>\n",
       "      <td>1.60</td>\n",
       "      <td>1.10</td>\n",
       "      <td>1.04</td>\n",
       "      <td>1.13</td>\n",
       "      <td>0.50</td>\n",
       "      <td>0.81</td>\n",
       "    </tr>\n",
       "    <tr>\n",
       "      <th>min</th>\n",
       "      <td>3.49</td>\n",
       "      <td>-23.17</td>\n",
       "      <td>0.06</td>\n",
       "      <td>0.00</td>\n",
       "      <td>14.70</td>\n",
       "      <td>15.13</td>\n",
       "      <td>10.00</td>\n",
       "      <td>10.00</td>\n",
       "      <td>14.09</td>\n",
       "      <td>11.26</td>\n",
       "      <td>11.93</td>\n",
       "      <td>10.04</td>\n",
       "      <td>11.18</td>\n",
       "    </tr>\n",
       "    <tr>\n",
       "      <th>25%</th>\n",
       "      <td>177.88</td>\n",
       "      <td>10.03</td>\n",
       "      <td>1.07</td>\n",
       "      <td>0.00</td>\n",
       "      <td>19.15</td>\n",
       "      <td>19.32</td>\n",
       "      <td>19.07</td>\n",
       "      <td>19.90</td>\n",
       "      <td>19.50</td>\n",
       "      <td>18.24</td>\n",
       "      <td>17.77</td>\n",
       "      <td>15.12</td>\n",
       "      <td>16.54</td>\n",
       "    </tr>\n",
       "    <tr>\n",
       "      <th>50%</th>\n",
       "      <td>209.66</td>\n",
       "      <td>25.38</td>\n",
       "      <td>1.69</td>\n",
       "      <td>0.00</td>\n",
       "      <td>20.04</td>\n",
       "      <td>20.16</td>\n",
       "      <td>19.89</td>\n",
       "      <td>20.95</td>\n",
       "      <td>20.36</td>\n",
       "      <td>19.01</td>\n",
       "      <td>18.64</td>\n",
       "      <td>15.41</td>\n",
       "      <td>17.19</td>\n",
       "    </tr>\n",
       "    <tr>\n",
       "      <th>75%</th>\n",
       "      <td>237.04</td>\n",
       "      <td>43.29</td>\n",
       "      <td>2.31</td>\n",
       "      <td>0.00</td>\n",
       "      <td>20.76</td>\n",
       "      <td>20.88</td>\n",
       "      <td>20.57</td>\n",
       "      <td>21.92</td>\n",
       "      <td>21.09</td>\n",
       "      <td>19.71</td>\n",
       "      <td>19.38</td>\n",
       "      <td>15.68</td>\n",
       "      <td>17.58</td>\n",
       "    </tr>\n",
       "    <tr>\n",
       "      <th>max</th>\n",
       "      <td>359.99</td>\n",
       "      <td>83.39</td>\n",
       "      <td>6.45</td>\n",
       "      <td>0.02</td>\n",
       "      <td>23.34</td>\n",
       "      <td>24.26</td>\n",
       "      <td>25.39</td>\n",
       "      <td>27.50</td>\n",
       "      <td>27.50</td>\n",
       "      <td>21.65</td>\n",
       "      <td>21.23</td>\n",
       "      <td>16.62</td>\n",
       "      <td>18.77</td>\n",
       "    </tr>\n",
       "  </tbody>\n",
       "</table>\n",
       "</div>"
      ],
      "text/plain": [
       "             RA       DEC    best_z  best_z_error     i_mag     r_mag  \\\n",
       "count 17,632.00 17,632.00 17,632.00     17,447.00 17,632.00 17,632.00   \n",
       "mean     207.23     26.47      1.74          0.00     19.98     20.08   \n",
       "std       76.03     19.48      0.81          0.00      1.08      1.07   \n",
       "min        3.49    -23.17      0.06          0.00     14.70     15.13   \n",
       "25%      177.88     10.03      1.07          0.00     19.15     19.32   \n",
       "50%      209.66     25.38      1.69          0.00     20.04     20.16   \n",
       "75%      237.04     43.29      2.31          0.00     20.76     20.88   \n",
       "max      359.99     83.39      6.45          0.02     23.34     24.26   \n",
       "\n",
       "          z_mag     u_mag     g_mag    W1_mag    W2_mag    W4_mag    W3_mag  \n",
       "count 17,632.00 17,632.00 17,632.00 17,632.00 17,632.00 17,632.00 17,632.00  \n",
       "mean      19.85     21.02     20.27     18.92     18.53     15.36     17.00  \n",
       "std        1.08      1.60      1.10      1.04      1.13      0.50      0.81  \n",
       "min       10.00     10.00     14.09     11.26     11.93     10.04     11.18  \n",
       "25%       19.07     19.90     19.50     18.24     17.77     15.12     16.54  \n",
       "50%       19.89     20.95     20.36     19.01     18.64     15.41     17.19  \n",
       "75%       20.57     21.92     21.09     19.71     19.38     15.68     17.58  \n",
       "max       25.39     27.50     27.50     21.65     21.23     16.62     18.77  "
      ]
     },
     "execution_count": 7,
     "metadata": {},
     "output_type": "execute_result"
    }
   ],
   "source": [
    "df_dev.describe()"
   ]
  },
  {
   "cell_type": "code",
   "execution_count": 9,
   "metadata": {
    "scrolled": true
   },
   "outputs": [
    {
     "name": "stdout",
     "output_type": "stream",
     "text": [
      "Training set size: (70528, 13)\n",
      "Dev set size: (17632, 13)\n"
     ]
    }
   ],
   "source": [
    "print(f'Training set size: {df_train.shape}')\n",
    "print(f'Dev set size: {df_dev.shape}')"
   ]
  },
  {
   "cell_type": "markdown",
   "metadata": {},
   "source": [
    "## Convert train/dev/test dataframe to numpy array"
   ]
  },
  {
   "cell_type": "code",
   "execution_count": 6,
   "metadata": {},
   "outputs": [],
   "source": [
    "#(x_train, x_dev, x_test, y_train, y_dev, y_test) = \n",
    "features = [col for col in df_train.columns if 'mag' in col]\n",
    "x_train = np.array(df_train[features])\n",
    "y_train = np.array(df_train['best_z'])\n",
    "\n",
    "x_dev = np.array(df_dev[features])\n",
    "y_dev = np.array(df_dev['best_z'])"
   ]
  },
  {
   "cell_type": "code",
   "execution_count": 7,
   "metadata": {},
   "outputs": [
    {
     "name": "stdout",
     "output_type": "stream",
     "text": [
      "Number of training examples: m_train = 70528\n",
      "Number of validataion examples: m_dev = 17632\n",
      "train_set_x shape: (70528, 9)\n",
      "train_set_y shape: (70528,)\n",
      "dev_set_x shape: (17632, 9)\n",
      "dev_set_y shape: (17632,)\n"
     ]
    }
   ],
   "source": [
    "print (\"Number of training examples: m_train = \" + str(x_train.shape[0]))\n",
    "print (\"Number of validataion examples: m_dev = \" + str(x_dev.shape[0]))\n",
    "\n",
    "print (\"train_set_x shape: \" + str(x_train.shape))\n",
    "print (\"train_set_y shape: \" + str(y_train.shape))\n",
    "print (\"dev_set_x shape: \" + str(x_dev.shape))\n",
    "print (\"dev_set_y shape: \" + str(y_dev.shape))\n"
   ]
  },
  {
   "cell_type": "code",
   "execution_count": 8,
   "metadata": {
    "scrolled": true
   },
   "outputs": [
    {
     "name": "stdout",
     "output_type": "stream",
     "text": [
      "i_mag\n",
      "r_mag\n",
      "z_mag\n",
      "u_mag\n",
      "g_mag\n",
      "W1_mag\n",
      "W2_mag\n",
      "W4_mag\n",
      "W3_mag\n"
     ]
    }
   ],
   "source": [
    "print(*features,sep='\\n')"
   ]
  },
  {
   "cell_type": "markdown",
   "metadata": {},
   "source": [
    "## Normalize"
   ]
  },
  {
   "cell_type": "code",
   "execution_count": 9,
   "metadata": {},
   "outputs": [],
   "source": [
    "x_train = (x_train - x_train.mean(axis=0)) / (x_train.std(axis=0))\n",
    "x_dev = (x_dev - x_dev.mean(axis=0)) / (x_dev.std(axis=0))"
   ]
  },
  {
   "cell_type": "code",
   "execution_count": 10,
   "metadata": {},
   "outputs": [
    {
     "data": {
      "text/plain": [
       "0"
      ]
     },
     "execution_count": 10,
     "metadata": {},
     "output_type": "execute_result"
    }
   ],
   "source": [
    "# check for nan in sets\n",
    "np.sum(np.isnan(x_dev))"
   ]
  },
  {
   "cell_type": "markdown",
   "metadata": {},
   "source": [
    "# Data Modeling\n",
    "<font color='green'> Use <font color='blue'>Mean absolute error </font>as evaluation metric"
   ]
  },
  {
   "cell_type": "markdown",
   "metadata": {},
   "source": [
    "## Multi-variant Linear Regression"
   ]
  },
  {
   "cell_type": "markdown",
   "metadata": {},
   "source": [
    "<font color='green'>Load model from file"
   ]
  },
  {
   "cell_type": "code",
   "execution_count": 41,
   "metadata": {},
   "outputs": [],
   "source": [
    "joblib_file = \"LR_Model.pkl\"  \n",
    "lr = joblib.load(joblib_file)"
   ]
  },
  {
   "cell_type": "code",
   "execution_count": 26,
   "metadata": {},
   "outputs": [],
   "source": [
    "%store -r yhat_train_lr\n",
    "%store -r yhat_dev_lr"
   ]
  },
  {
   "cell_type": "markdown",
   "metadata": {},
   "source": [
    "<font color='green'> Build the model"
   ]
  },
  {
   "cell_type": "code",
   "execution_count": 113,
   "metadata": {},
   "outputs": [],
   "source": [
    "# raise our features to a power of 2\n",
    "poly = PolynomialFeatures(degree=3)\n",
    "x_train_poly = poly.fit_transform(x_train)\n",
    "x_dev_poly = poly.fit_transform(x_dev)"
   ]
  },
  {
   "cell_type": "code",
   "execution_count": 115,
   "metadata": {},
   "outputs": [
    {
     "name": "stdout",
     "output_type": "stream",
     "text": [
      "CPU times: user 11.4 s, sys: 11.4 s, total: 22.8 s\n",
      "Wall time: 1.1 s\n"
     ]
    },
    {
     "data": {
      "text/plain": [
       "LinearRegression()"
      ]
     },
     "execution_count": 115,
     "metadata": {},
     "output_type": "execute_result"
    }
   ],
   "source": [
    "%%time\n",
    "lr = linear_model.LinearRegression()\n",
    "lr.fit(x_train_poly, y_train)\n",
    "# The coefficients\n",
    "#print ('Coefficients: ', lr.coef_)"
   ]
  },
  {
   "cell_type": "code",
   "execution_count": 116,
   "metadata": {},
   "outputs": [],
   "source": [
    "yhat_train_lr = lr.predict(x_train_poly)\n",
    "yhat_dev_lr = lr.predict(x_dev_poly) #Predicting on the test data"
   ]
  },
  {
   "cell_type": "code",
   "execution_count": 117,
   "metadata": {},
   "outputs": [
    {
     "data": {
      "text/markdown": [
       "<font color='green'> Training set:"
      ],
      "text/plain": [
       "<IPython.core.display.Markdown object>"
      ]
     },
     "metadata": {},
     "output_type": "display_data"
    },
    {
     "name": "stdout",
     "output_type": "stream",
     "text": [
      "Residual sum of squares: 0.13\n",
      "Root Mean Squared Error: 0.37\n",
      "Mean Absolute Error: 0.26\n",
      "Accuracy: 76.5%\n"
     ]
    },
    {
     "data": {
      "text/markdown": [
       "<font color='green'> Dev set:"
      ],
      "text/plain": [
       "<IPython.core.display.Markdown object>"
      ]
     },
     "metadata": {},
     "output_type": "display_data"
    },
    {
     "name": "stdout",
     "output_type": "stream",
     "text": [
      "Residual sum of squares: 0.33\n",
      "Root Mean Squared Error: 0.57\n",
      "Mean Absolute Error: 0.27\n",
      "Accuracy: 76.49%\n"
     ]
    }
   ],
   "source": [
    "printmd(\"<font color='green'> Training set:\")\n",
    "print(\"Residual sum of squares: %.2f\"\n",
    "      % np.mean((yhat_train_lr - y_train) ** 2))\n",
    "\n",
    "print('Root Mean Squared Error: %.2f' % np.sqrt(mean_squared_error(y_train, yhat_train_lr)))\n",
    "print('Mean Absolute Error: %.2f' % mean_absolute_error(y_train, yhat_train_lr))\n",
    "print('Accuracy:', accuracy(y_train, yhat_train_lr))\n",
    "\n",
    "printmd(\"<font color='green'> Dev set:\")\n",
    "print(\"Residual sum of squares: %.2f\"\n",
    "      % np.mean((yhat_dev_lr - y_dev) ** 2))\n",
    "\n",
    "print('Root Mean Squared Error: %.2f'% np.sqrt(mean_squared_error(y_dev, yhat_dev_lr)))\n",
    "print('Mean Absolute Error: %.2f' % mean_absolute_error(y_dev, yhat_dev_lr))\n",
    "print('Accuracy:', accuracy(y_dev, yhat_dev_lr))"
   ]
  },
  {
   "cell_type": "code",
   "execution_count": 151,
   "metadata": {},
   "outputs": [
    {
     "data": {
      "image/png": "[encoded data removed]",
      "text/plain": [
       "<Figure size 1080x432 with 2 Axes>"
      ]
     },
     "metadata": {
      "needs_background": "light"
     },
     "output_type": "display_data"
    }
   ],
   "source": [
    "fig, axes = plt.subplots(1, 2, sharey=True, figsize=(15,6))\n",
    "sns.kdeplot(x=y_train, ax=axes[0], color=\"r\", label=\"Actual Value\")\n",
    "sns.kdeplot(x=yhat_train_lr, ax=axes[0], color=\"b\", label=\"Fitted Values\" )\n",
    "axes[0].set_title('Actual vs Fitted Values for Redshift in Train Set')\n",
    "\n",
    "sns.kdeplot(x=y_dev, ax=axes[1], color=\"r\", label=\"Actual Value\")\n",
    "sns.kdeplot(x=yhat_dev_lr, ax=axes[1], color=\"b\", label=\"Fitted Values\")\n",
    "axes[1].set_title('Actual vs Fitted Values for Redshift in Dev Set')\n",
    "\n",
    "axes[0].legend()\n",
    "axes[1].legend()\n",
    "plt.show();"
   ]
  },
  {
   "cell_type": "markdown",
   "metadata": {},
   "source": [
    "<font color='red'> __Conclusion__:</font>\n",
    "<font color='green'>\n",
    "- The performance is moderate. \n",
    "- Extreme values exist."
   ]
  },
  {
   "cell_type": "markdown",
   "metadata": {},
   "source": [
    "<font color='green'> Save model to file"
   ]
  },
  {
   "cell_type": "code",
   "execution_count": 122,
   "metadata": {},
   "outputs": [
    {
     "data": {
      "text/plain": [
       "['LR_Model.pkl']"
      ]
     },
     "execution_count": 122,
     "metadata": {},
     "output_type": "execute_result"
    }
   ],
   "source": [
    "joblib_file = \"LR_Model.pkl\"  \n",
    "joblib.dump(lr, joblib_file)"
   ]
  },
  {
   "cell_type": "code",
   "execution_count": 123,
   "metadata": {},
   "outputs": [
    {
     "name": "stdout",
     "output_type": "stream",
     "text": [
      "Stored 'yhat_train_lr' (ndarray)\n",
      "Stored 'yhat_dev_lr' (ndarray)\n"
     ]
    }
   ],
   "source": [
    "%store yhat_train_lr\n",
    "%store yhat_dev_lr"
   ]
  },
  {
   "cell_type": "markdown",
   "metadata": {},
   "source": [
    "## Random Forest "
   ]
  },
  {
   "cell_type": "markdown",
   "metadata": {},
   "source": [
    "<font color='green'> Load model from file"
   ]
  },
  {
   "cell_type": "code",
   "execution_count": 15,
   "metadata": {},
   "outputs": [],
   "source": [
    "joblib_file = \"RF_Model.pkl\"  \n",
    "Tree = joblib.load(joblib_file)"
   ]
  },
  {
   "cell_type": "code",
   "execution_count": 149,
   "metadata": {},
   "outputs": [],
   "source": [
    "%store -r yhat_train_rf\n",
    "%store -r yhat_dev_rf"
   ]
  },
  {
   "cell_type": "code",
   "execution_count": 11,
   "metadata": {},
   "outputs": [
    {
     "name": "stdout",
     "output_type": "stream",
     "text": [
      "CPU times: user 11min 2s, sys: 3.07 s, total: 11min 5s\n",
      "Wall time: 2min 14s\n"
     ]
    },
    {
     "data": {
      "text/plain": [
       "RandomForestRegressor(n_estimators=1000, n_jobs=5, random_state=42)"
      ]
     },
     "execution_count": 11,
     "metadata": {},
     "output_type": "execute_result"
    }
   ],
   "source": [
    "%%time\n",
    "# try 1000 trees\n",
    "regressor = RandomForestRegressor(n_estimators = 1000, random_state = 42, n_jobs = 5)\n",
    "regressor.fit(x_train, y_train)"
   ]
  },
  {
   "cell_type": "code",
   "execution_count": 13,
   "metadata": {},
   "outputs": [],
   "source": [
    "yhat_train_rf = regressor.predict(x_train)\n",
    "yhat_dev_rf = regressor.predict(x_dev)"
   ]
  },
  {
   "cell_type": "code",
   "execution_count": 14,
   "metadata": {
    "scrolled": true
   },
   "outputs": [
    {
     "data": {
      "text/markdown": [
       "<font color='green'> Training set:"
      ],
      "text/plain": [
       "<IPython.core.display.Markdown object>"
      ]
     },
     "metadata": {},
     "output_type": "display_data"
    },
    {
     "name": "stdout",
     "output_type": "stream",
     "text": [
      "Residual sum of squares: 0.01\n",
      "Root Mean Squared Error: 0.12\n",
      "Mean Absolute Error: 0.08\n",
      "Accuracy: 93.23%\n"
     ]
    },
    {
     "data": {
      "text/markdown": [
       "<font color='green'> Dev set:"
      ],
      "text/plain": [
       "<IPython.core.display.Markdown object>"
      ]
     },
     "metadata": {},
     "output_type": "display_data"
    },
    {
     "name": "stdout",
     "output_type": "stream",
     "text": [
      "Residual sum of squares: 0.11\n",
      "Root Mean Squared Error: 0.33\n",
      "Mean Absolute Error: 0.21\n",
      "Accuracy: 82.35%\n"
     ]
    }
   ],
   "source": [
    "printmd(\"<font color='green'> Training set:\")\n",
    "print(\"Residual sum of squares: %.2f\"\n",
    "      % np.mean((yhat_train_rf - y_train) ** 2))\n",
    "\n",
    "print('Root Mean Squared Error: %.2f' % np.sqrt(mean_squared_error(y_train, yhat_train_rf)))\n",
    "print('Mean Absolute Error: %.2f' % mean_absolute_error(y_train, yhat_train_rf))\n",
    "print('Accuracy:', accuracy(y_train, yhat_train_rf))\n",
    "\n",
    "printmd(\"<font color='green'> Dev set:\")\n",
    "print(\"Residual sum of squares: %.2f\"\n",
    "      % np.mean((yhat_dev_rf - y_dev) ** 2))\n",
    "\n",
    "print('Root Mean Squared Error: %.2f'% np.sqrt(mean_squared_error(y_dev, yhat_dev_rf)))\n",
    "print('Mean Absolute Error: %.2f' % mean_absolute_error(y_dev, yhat_dev_rf))\n",
    "print('Accuracy:', accuracy(y_dev, yhat_dev_rf))"
   ]
  },
  {
   "cell_type": "code",
   "execution_count": 150,
   "metadata": {},
   "outputs": [
    {
     "data": {
      "image/png": "[encoded data removed]",
      "text/plain": [
       "<Figure size 1080x432 with 2 Axes>"
      ]
     },
     "metadata": {
      "needs_background": "light"
     },
     "output_type": "display_data"
    }
   ],
   "source": [
    "fig, axes = plt.subplots(1, 2, sharey=True, figsize=(15,6))\n",
    "sns.kdeplot(x=y_train, ax=axes[0], color=\"r\", label=\"Actual Value\")\n",
    "sns.kdeplot(x=yhat_train_rf, ax=axes[0], color=\"b\", label=\"Fitted Values\" )\n",
    "axes[0].set_title('Actual vs Fitted Values for Redshift in Train Set')\n",
    "\n",
    "sns.kdeplot(x=y_dev, ax=axes[1], color=\"r\", label=\"Actual Value\")\n",
    "sns.kdeplot(x=yhat_dev_rf, ax=axes[1], color=\"b\", label=\"Fitted Values\")\n",
    "axes[1].set_title('Actual vs Fitted Values for Redshift in Dev Set')\n",
    "\n",
    "axes[0].legend()\n",
    "axes[1].legend()\n",
    "plt.show();"
   ]
  },
  {
   "cell_type": "markdown",
   "metadata": {},
   "source": [
    "<font color='red'> __Conclusion__:</font>\n",
    "<font color='green'>\n",
    "\n",
    "- The best performance overall is d=4 or 5  with f1_train and f1_dev ~ 80%, indicating high bias. "
   ]
  },
  {
   "cell_type": "markdown",
   "metadata": {},
   "source": [
    "<font color='green'> Save model to file"
   ]
  },
  {
   "cell_type": "code",
   "execution_count": 31,
   "metadata": {},
   "outputs": [
    {
     "data": {
      "text/plain": [
       "['RF_Model.pkl']"
      ]
     },
     "execution_count": 31,
     "metadata": {},
     "output_type": "execute_result"
    }
   ],
   "source": [
    "joblib_file = \"RF_Model.pkl\"  \n",
    "joblib.dump(regressor, joblib_file)"
   ]
  },
  {
   "cell_type": "code",
   "execution_count": 32,
   "metadata": {},
   "outputs": [
    {
     "name": "stdout",
     "output_type": "stream",
     "text": [
      "Stored 'yhat_train_rf' (ndarray)\n",
      "Stored 'yhat_dev_rf' (ndarray)\n"
     ]
    }
   ],
   "source": [
    "%store yhat_train_rf\n",
    "%store yhat_dev_rf"
   ]
  },
  {
   "cell_type": "markdown",
   "metadata": {},
   "source": [
    "## K Nearest Neighbors"
   ]
  },
  {
   "cell_type": "markdown",
   "metadata": {},
   "source": [
    "<font color='green'>Load model from file"
   ]
  },
  {
   "cell_type": "code",
   "execution_count": 64,
   "metadata": {},
   "outputs": [],
   "source": [
    "joblib_file = \"KNN_Model.pkl\"  \n",
    "knn = joblib.load(joblib_file)"
   ]
  },
  {
   "cell_type": "code",
   "execution_count": 146,
   "metadata": {},
   "outputs": [],
   "source": [
    "%store -r yhat_train_knn\n",
    "%store -r yhat_dev_knn"
   ]
  },
  {
   "cell_type": "code",
   "execution_count": 29,
   "metadata": {},
   "outputs": [
    {
     "data": {
      "text/plain": [
       "{'n_neighbors': 16}"
      ]
     },
     "execution_count": 29,
     "metadata": {},
     "output_type": "execute_result"
    }
   ],
   "source": [
    "# find the best K\n",
    "params = {'n_neighbors':list(range(1,21))}\n",
    "\n",
    "knn = neighbors.KNeighborsRegressor()\n",
    "\n",
    "model = GridSearchCV(knn, params, cv=5)\n",
    "model.fit(x_train,y_train)\n",
    "model.best_params_"
   ]
  },
  {
   "cell_type": "code",
   "execution_count": 45,
   "metadata": {},
   "outputs": [
    {
     "data": {
      "text/plain": [
       "KNeighborsRegressor(n_neighbors=16)"
      ]
     },
     "execution_count": 45,
     "metadata": {},
     "output_type": "execute_result"
    }
   ],
   "source": [
    "# use the best k=16\n",
    "K=16\n",
    "knn = neighbors.KNeighborsRegressor(n_neighbors = K)\n",
    "\n",
    "knn.fit(x_train, y_train)  # fit the model"
   ]
  },
  {
   "cell_type": "code",
   "execution_count": null,
   "metadata": {},
   "outputs": [],
   "source": [
    "#Predicting on the test data\n",
    "yhat_train_knn = knn.predict(x_train)\n",
    "yhat_dev_knn = knn.predict(x_dev)"
   ]
  },
  {
   "cell_type": "code",
   "execution_count": 58,
   "metadata": {},
   "outputs": [
    {
     "data": {
      "text/markdown": [
       "<font color='green'> Training set:"
      ],
      "text/plain": [
       "<IPython.core.display.Markdown object>"
      ]
     },
     "metadata": {},
     "output_type": "display_data"
    },
    {
     "name": "stdout",
     "output_type": "stream",
     "text": [
      "Residual sum of squares: 0.11\n",
      "Root Mean Squared Error: 0.34\n",
      "Mean Absolute Error: 0.23\n",
      "Accuracy: 79.75%\n"
     ]
    },
    {
     "data": {
      "text/markdown": [
       "<font color='green'> Dev set:"
      ],
      "text/plain": [
       "<IPython.core.display.Markdown object>"
      ]
     },
     "metadata": {},
     "output_type": "display_data"
    },
    {
     "name": "stdout",
     "output_type": "stream",
     "text": [
      "Residual sum of squares: 0.13\n",
      "Root Mean Squared Error: 0.36\n",
      "Mean Absolute Error: 0.25\n",
      "Accuracy: 78.96%\n"
     ]
    }
   ],
   "source": [
    "printmd(\"<font color='green'> Training set:\")\n",
    "print(\"Residual sum of squares: %.2f\"\n",
    "      % np.mean((yhat_train_knn - y_train) ** 2))\n",
    "\n",
    "print('Root Mean Squared Error: %.2f' % np.sqrt(mean_squared_error(y_train, yhat_train_knn)))\n",
    "print('Mean Absolute Error: %.2f' % mean_absolute_error(y_train, yhat_train_knn))\n",
    "print('Accuracy:', accuracy(y_train, yhat_train_knn))\n",
    "\n",
    "\n",
    "printmd(\"<font color='green'> Dev set:\")\n",
    "print(\"Residual sum of squares: %.2f\"\n",
    "      % np.mean((yhat_dev_knn - y_dev) ** 2))\n",
    "\n",
    "print('Root Mean Squared Error: %.2f' % np.sqrt(mean_squared_error(y_dev, yhat_dev_knn)))\n",
    "print('Mean Absolute Error: %.2f' % mean_absolute_error(y_dev, yhat_dev_knn))\n",
    "print('Accuracy:', accuracy(y_dev, yhat_dev_knn))"
   ]
  },
  {
   "cell_type": "code",
   "execution_count": 147,
   "metadata": {},
   "outputs": [
    {
     "data": {
      "image/png": "[encoded data removed]",
      "text/plain": [
       "<Figure size 1080x432 with 2 Axes>"
      ]
     },
     "metadata": {
      "needs_background": "light"
     },
     "output_type": "display_data"
    }
   ],
   "source": [
    "fig, axes = plt.subplots(1, 2, sharey=True, figsize=(15,6))\n",
    "sns.kdeplot(x=y_train, ax=axes[0], color=\"r\", label=\"Actual Value\")\n",
    "sns.kdeplot(x=yhat_train_knn, ax=axes[0], color=\"b\", label=\"Fitted Values\" )\n",
    "axes[0].set_title('Actual vs Fitted Values for Redshift in Train Set')\n",
    "\n",
    "sns.kdeplot(x=y_dev, ax=axes[1], color=\"r\", label=\"Actual Value\")\n",
    "sns.kdeplot(x=yhat_dev_knn, ax=axes[1], color=\"b\", label=\"Fitted Values\")\n",
    "axes[1].set_title('Actual vs Fitted Values for Redshift in Dev Set')\n",
    "\n",
    "axes[0].legend()\n",
    "axes[1].legend()\n",
    "plt.show();"
   ]
  },
  {
   "cell_type": "markdown",
   "metadata": {},
   "source": [
    "<font color='red'> __Conclusion__:</font>\n",
    "<font color='green'>\n",
    "- Better than LR."
   ]
  },
  {
   "cell_type": "markdown",
   "metadata": {},
   "source": [
    "<font color='green'> Save model to file"
   ]
  },
  {
   "cell_type": "code",
   "execution_count": 47,
   "metadata": {},
   "outputs": [
    {
     "data": {
      "text/plain": [
       "['KNN_Model.pkl']"
      ]
     },
     "execution_count": 47,
     "metadata": {},
     "output_type": "execute_result"
    }
   ],
   "source": [
    "joblib_file = \"KNN_Model.pkl\"  \n",
    "joblib.dump(knn, joblib_file)"
   ]
  },
  {
   "cell_type": "code",
   "execution_count": 48,
   "metadata": {},
   "outputs": [
    {
     "name": "stdout",
     "output_type": "stream",
     "text": [
      "Stored 'yhat_train_knn' (ndarray)\n",
      "Stored 'yhat_dev_knn' (ndarray)\n"
     ]
    }
   ],
   "source": [
    "%store yhat_train_knn\n",
    "%store yhat_dev_knn"
   ]
  },
  {
   "cell_type": "markdown",
   "metadata": {},
   "source": [
    "## Neural Network\n",
    "Based on https://ui.adsabs.harvard.edu/abs/2021MNRAS.503.2639C/abstract"
   ]
  },
  {
   "cell_type": "markdown",
   "metadata": {},
   "source": [
    "The structure of the network is as follows:\n",
    "- Input size = (9x1)\n",
    "- 200 neurons for each layer\n",
    "- RMSprop\n",
    "- Early stop with patience = 10\n",
    "- MAE as loss function"
   ]
  },
  {
   "cell_type": "markdown",
   "metadata": {},
   "source": [
    "<font color='green'> Load model from file"
   ]
  },
  {
   "cell_type": "code",
   "execution_count": 11,
   "metadata": {
    "scrolled": true
   },
   "outputs": [],
   "source": [
    "Z_NN = keras.models.load_model('agn_NN.pd')"
   ]
  },
  {
   "cell_type": "code",
   "execution_count": 12,
   "metadata": {},
   "outputs": [],
   "source": [
    "%store -r yhat_train_cnn\n",
    "%store -r yhat_dev_cnn"
   ]
  },
  {
   "cell_type": "markdown",
   "metadata": {},
   "source": [
    "<font color='green'> Build the model"
   ]
  },
  {
   "cell_type": "code",
   "execution_count": 11,
   "metadata": {},
   "outputs": [],
   "source": [
    "x_train_nn = x_train.reshape(-1,9,1,1)\n",
    "x_dev_nn = x_dev.reshape(-1,9,1,1)"
   ]
  },
  {
   "cell_type": "code",
   "execution_count": 133,
   "metadata": {},
   "outputs": [],
   "source": [
    "def model_NN(input_shape):\n",
    "    \"\"\"\n",
    "    Implementation of the AGN_NN.\n",
    "    \n",
    "    Arguments:\n",
    "    input_shape -- shape of the input of the dataset\n",
    "        (height, width, channels) as a tuple.  \n",
    "        Note that this does not include the 'batch' as a dimension.\n",
    "        If you have a batch like 'X_train', \n",
    "        then you can provide the input_shape using\n",
    "        X_train.shape[1:]\n",
    "    \n",
    "\n",
    "    Returns:\n",
    "    model -- a Model() instance in Keras\n",
    "    \"\"\"\n",
    "  # Define the input placeholder as a tensor with shape input_shape. Think of this as your input image!\n",
    "    \n",
    "    X_input = Input(input_shape)\n",
    "    \n",
    "    X = Flatten()(X_input)\n",
    "    X = Dense(200, activation='relu', name='l0')(X)\n",
    "    X = Dense(200, activation='relu', name='l1')(X)\n",
    "    X = Dense(200, activation='tanh', name='l2')(X)    \n",
    "    X = Dense(1, activation='linear')(X)\n",
    "\n",
    "    # Create model. This creates your Keras model instance, you'll use this instance to train/test the model.\n",
    "    model = Model(inputs = X_input, outputs = X, name='Z_NN')\n",
    "\n",
    "    \n",
    "    ### END CODE HERE ###\n",
    "    \n",
    "    return model"
   ]
  },
  {
   "cell_type": "code",
   "execution_count": 134,
   "metadata": {},
   "outputs": [],
   "source": [
    "# early stop with patience = 10\n",
    "callback = keras.callbacks.EarlyStopping(monitor='val_loss', patience=10)"
   ]
  },
  {
   "cell_type": "code",
   "execution_count": 135,
   "metadata": {},
   "outputs": [],
   "source": [
    "Z_NN = model_NN(x_train_nn.shape[1:])\n",
    "\n",
    "# compile the model\n",
    "Z_NN.compile(optimizer='rmsprop', loss=\"mean_absolute_error\")"
   ]
  },
  {
   "cell_type": "code",
   "execution_count": 136,
   "metadata": {},
   "outputs": [
    {
     "name": "stdout",
     "output_type": "stream",
     "text": [
      "Model: \"Z_NN\"\n",
      "_________________________________________________________________\n",
      "Layer (type)                 Output Shape              Param #   \n",
      "=================================================================\n",
      "input_6 (InputLayer)         [(None, 9, 1, 1)]         0         \n",
      "_________________________________________________________________\n",
      "flatten_5 (Flatten)          (None, 9)                 0         \n",
      "_________________________________________________________________\n",
      "l0 (Dense)                   (None, 200)               2000      \n",
      "_________________________________________________________________\n",
      "l1 (Dense)                   (None, 200)               40200     \n",
      "_________________________________________________________________\n",
      "l2 (Dense)                   (None, 200)               40200     \n",
      "_________________________________________________________________\n",
      "dense_16 (Dense)             (None, 1)                 201       \n",
      "=================================================================\n",
      "Total params: 82,601\n",
      "Trainable params: 82,601\n",
      "Non-trainable params: 0\n",
      "_________________________________________________________________\n"
     ]
    }
   ],
   "source": [
    "Z_NN.summary()"
   ]
  },
  {
   "cell_type": "code",
   "execution_count": 137,
   "metadata": {
    "scrolled": true
   },
   "outputs": [
    {
     "name": "stdout",
     "output_type": "stream",
     "text": [
      "Epoch 1/200\n",
      "138/138 [==============================] - 1s 6ms/step - loss: 0.5397 - val_loss: 0.3705\n",
      "Epoch 2/200\n",
      "138/138 [==============================] - 1s 4ms/step - loss: 0.3162 - val_loss: 0.3039\n",
      "Epoch 3/200\n",
      "138/138 [==============================] - 1s 4ms/step - loss: 0.2715 - val_loss: 0.2645\n",
      "Epoch 4/200\n",
      "138/138 [==============================] - 1s 5ms/step - loss: 0.2534 - val_loss: 0.2467\n",
      "Epoch 5/200\n",
      "138/138 [==============================] - 1s 5ms/step - loss: 0.2387 - val_loss: 0.2198\n",
      "Epoch 6/200\n",
      "138/138 [==============================] - 1s 5ms/step - loss: 0.2274 - val_loss: 0.2183\n",
      "Epoch 7/200\n",
      "138/138 [==============================] - 1s 4ms/step - loss: 0.2178 - val_loss: 0.2128\n",
      "Epoch 8/200\n",
      "138/138 [==============================] - 1s 5ms/step - loss: 0.2095 - val_loss: 0.2110\n",
      "Epoch 9/200\n",
      "138/138 [==============================] - 1s 5ms/step - loss: 0.2048 - val_loss: 0.1969\n",
      "Epoch 10/200\n",
      "138/138 [==============================] - 1s 5ms/step - loss: 0.1991 - val_loss: 0.1931\n",
      "Epoch 11/200\n",
      "138/138 [==============================] - 1s 5ms/step - loss: 0.1988 - val_loss: 0.2030\n",
      "Epoch 12/200\n",
      "138/138 [==============================] - 1s 5ms/step - loss: 0.1969 - val_loss: 0.2023\n",
      "Epoch 13/200\n",
      "138/138 [==============================] - 1s 5ms/step - loss: 0.1929 - val_loss: 0.1953\n",
      "Epoch 14/200\n",
      "138/138 [==============================] - 1s 4ms/step - loss: 0.1898 - val_loss: 0.2061\n",
      "Epoch 15/200\n",
      "138/138 [==============================] - 1s 4ms/step - loss: 0.1917 - val_loss: 0.1834\n",
      "Epoch 16/200\n",
      "138/138 [==============================] - 1s 4ms/step - loss: 0.1881 - val_loss: 0.1875\n",
      "Epoch 17/200\n",
      "138/138 [==============================] - 1s 5ms/step - loss: 0.1860 - val_loss: 0.1934\n",
      "Epoch 18/200\n",
      "138/138 [==============================] - 1s 5ms/step - loss: 0.1839 - val_loss: 0.1824\n",
      "Epoch 19/200\n",
      "138/138 [==============================] - 1s 4ms/step - loss: 0.1817 - val_loss: 0.1932\n",
      "Epoch 20/200\n",
      "138/138 [==============================] - 1s 5ms/step - loss: 0.1820 - val_loss: 0.1920\n",
      "Epoch 21/200\n",
      "138/138 [==============================] - 1s 5ms/step - loss: 0.1804 - val_loss: 0.1944\n",
      "Epoch 22/200\n",
      "138/138 [==============================] - 1s 5ms/step - loss: 0.1802 - val_loss: 0.1822\n",
      "Epoch 23/200\n",
      "138/138 [==============================] - 1s 5ms/step - loss: 0.1794 - val_loss: 0.1780\n",
      "Epoch 24/200\n",
      "138/138 [==============================] - 1s 5ms/step - loss: 0.1756 - val_loss: 0.1961\n",
      "Epoch 25/200\n",
      "138/138 [==============================] - 1s 5ms/step - loss: 0.1769 - val_loss: 0.1785\n",
      "Epoch 26/200\n",
      "138/138 [==============================] - 1s 4ms/step - loss: 0.1758 - val_loss: 0.1821\n",
      "Epoch 27/200\n",
      "138/138 [==============================] - 1s 4ms/step - loss: 0.1747 - val_loss: 0.1928\n",
      "Epoch 28/200\n",
      "138/138 [==============================] - 1s 5ms/step - loss: 0.1730 - val_loss: 0.1744\n",
      "Epoch 29/200\n",
      "138/138 [==============================] - 1s 4ms/step - loss: 0.1732 - val_loss: 0.1792\n",
      "Epoch 30/200\n",
      "138/138 [==============================] - 1s 5ms/step - loss: 0.1726 - val_loss: 0.1818\n",
      "Epoch 31/200\n",
      "138/138 [==============================] - 1s 4ms/step - loss: 0.1724 - val_loss: 0.1795\n",
      "Epoch 32/200\n",
      "138/138 [==============================] - 1s 5ms/step - loss: 0.1723 - val_loss: 0.1740\n",
      "Epoch 33/200\n",
      "138/138 [==============================] - 1s 5ms/step - loss: 0.1710 - val_loss: 0.1767\n",
      "Epoch 34/200\n",
      "138/138 [==============================] - 1s 5ms/step - loss: 0.1700 - val_loss: 0.1755\n",
      "Epoch 35/200\n",
      "138/138 [==============================] - 1s 7ms/step - loss: 0.1704 - val_loss: 0.1849\n",
      "Epoch 36/200\n",
      "138/138 [==============================] - 1s 5ms/step - loss: 0.1675 - val_loss: 0.1827\n",
      "Epoch 37/200\n",
      "138/138 [==============================] - 1s 4ms/step - loss: 0.1701 - val_loss: 0.1784\n",
      "Epoch 38/200\n",
      "138/138 [==============================] - 1s 4ms/step - loss: 0.1664 - val_loss: 0.1788\n",
      "Epoch 39/200\n",
      "138/138 [==============================] - 1s 4ms/step - loss: 0.1696 - val_loss: 0.1778\n",
      "Epoch 40/200\n",
      "138/138 [==============================] - 1s 5ms/step - loss: 0.1658 - val_loss: 0.1806\n",
      "Epoch 41/200\n",
      "138/138 [==============================] - 1s 5ms/step - loss: 0.1657 - val_loss: 0.1721\n",
      "Epoch 42/200\n",
      "138/138 [==============================] - 1s 5ms/step - loss: 0.1658 - val_loss: 0.1726\n",
      "Epoch 43/200\n",
      "138/138 [==============================] - 1s 5ms/step - loss: 0.1658 - val_loss: 0.1818\n",
      "Epoch 44/200\n",
      "138/138 [==============================] - 1s 5ms/step - loss: 0.1669 - val_loss: 0.1724\n",
      "Epoch 45/200\n",
      "138/138 [==============================] - 1s 5ms/step - loss: 0.1650 - val_loss: 0.1808\n",
      "Epoch 46/200\n",
      "138/138 [==============================] - 1s 5ms/step - loss: 0.1652 - val_loss: 0.1782\n",
      "Epoch 47/200\n",
      "138/138 [==============================] - 1s 5ms/step - loss: 0.1645 - val_loss: 0.1725\n",
      "Epoch 48/200\n",
      "138/138 [==============================] - 1s 4ms/step - loss: 0.1633 - val_loss: 0.1763\n",
      "Epoch 49/200\n",
      "138/138 [==============================] - 1s 4ms/step - loss: 0.1637 - val_loss: 0.1754\n",
      "Epoch 50/200\n",
      "138/138 [==============================] - 1s 5ms/step - loss: 0.1614 - val_loss: 0.1749\n",
      "Epoch 51/200\n",
      "138/138 [==============================] - 1s 4ms/step - loss: 0.1629 - val_loss: 0.1720\n",
      "Epoch 52/200\n",
      "138/138 [==============================] - 1s 5ms/step - loss: 0.1622 - val_loss: 0.1749\n",
      "Epoch 53/200\n",
      "138/138 [==============================] - 1s 4ms/step - loss: 0.1612 - val_loss: 0.1713\n",
      "Epoch 54/200\n",
      "138/138 [==============================] - 1s 5ms/step - loss: 0.1592 - val_loss: 0.1709\n",
      "Epoch 55/200\n",
      "138/138 [==============================] - 1s 5ms/step - loss: 0.1617 - val_loss: 0.1719\n",
      "Epoch 56/200\n",
      "138/138 [==============================] - 1s 5ms/step - loss: 0.1594 - val_loss: 0.1742\n",
      "Epoch 57/200\n",
      "138/138 [==============================] - 1s 5ms/step - loss: 0.1608 - val_loss: 0.1718\n",
      "Epoch 58/200\n",
      "138/138 [==============================] - 1s 5ms/step - loss: 0.1611 - val_loss: 0.1749\n",
      "Epoch 59/200\n",
      "138/138 [==============================] - 1s 5ms/step - loss: 0.1598 - val_loss: 0.1718\n",
      "Epoch 60/200\n",
      "138/138 [==============================] - 1s 4ms/step - loss: 0.1566 - val_loss: 0.1721\n",
      "Epoch 61/200\n",
      "138/138 [==============================] - 1s 4ms/step - loss: 0.1591 - val_loss: 0.1755\n",
      "Epoch 62/200\n",
      "138/138 [==============================] - 1s 4ms/step - loss: 0.1584 - val_loss: 0.1835\n",
      "Epoch 63/200\n",
      "138/138 [==============================] - 1s 5ms/step - loss: 0.1592 - val_loss: 0.1731\n",
      "Epoch 64/200\n",
      "138/138 [==============================] - 1s 5ms/step - loss: 0.1581 - val_loss: 0.1734\n"
     ]
    }
   ],
   "source": [
    "# Train the model\n",
    "history = Z_NN.fit(\n",
    "            x_train_nn,\n",
    "            y_train,\n",
    "            batch_size=512,\n",
    "            callbacks=[callback],\n",
    "            epochs=200,\n",
    "            verbose=1,\n",
    "            validation_data=(x_dev_nn, y_dev))"
   ]
  },
  {
   "cell_type": "code",
   "execution_count": 138,
   "metadata": {},
   "outputs": [
    {
     "name": "stdout",
     "output_type": "stream",
     "text": [
      "138/138 [==============================] - 0s 2ms/step\n",
      "35/35 [==============================] - 0s 2ms/step\n"
     ]
    }
   ],
   "source": [
    "yhat_train_nn = Z_NN.predict(x_train_nn, batch_size=512, verbose=1)\n",
    "yhat_train_nn = yhat_train_nn.reshape(yhat_train_nn.shape[0],)\n",
    "yhat_dev_nn = Z_NN.predict(x_dev_nn, batch_size=512, verbose=1)\n",
    "yhat_dev_nn = yhat_dev_nn.reshape(yhat_dev_nn.shape[0],)"
   ]
  },
  {
   "cell_type": "code",
   "execution_count": 139,
   "metadata": {},
   "outputs": [
    {
     "data": {
      "text/markdown": [
       "<font color='green'> Training set:"
      ],
      "text/plain": [
       "<IPython.core.display.Markdown object>"
      ]
     },
     "metadata": {},
     "output_type": "display_data"
    },
    {
     "name": "stdout",
     "output_type": "stream",
     "text": [
      "Residual sum of squares: 0.08\n",
      "Root Mean Squared Error: 0.29\n",
      "Mean Absolute Error: 0.16\n",
      "Accuracy: 86.73%\n"
     ]
    },
    {
     "data": {
      "text/markdown": [
       "<font color='green'> Dev set:"
      ],
      "text/plain": [
       "<IPython.core.display.Markdown object>"
      ]
     },
     "metadata": {},
     "output_type": "display_data"
    },
    {
     "name": "stdout",
     "output_type": "stream",
     "text": [
      "Residual sum of squares: 0.10\n",
      "Root Mean Squared Error: 0.31\n",
      "Mean Absolute Error: 0.17\n",
      "Accuracy: 86.05%\n"
     ]
    }
   ],
   "source": [
    "printmd(\"<font color='green'> Training set:\")\n",
    "print(\"Residual sum of squares: %.2f\"\n",
    "      % np.mean((yhat_train_nn - y_train) ** 2))\n",
    "\n",
    "print('Root Mean Squared Error: %.2f' % np.sqrt(mean_squared_error(y_train, yhat_train_nn)))\n",
    "print('Mean Absolute Error: %.2f' % mean_absolute_error(y_train, yhat_train_nn))\n",
    "print('Accuracy:', accuracy(y_train, yhat_train_nn))\n",
    "\n",
    "\n",
    "printmd(\"<font color='green'> Dev set:\")\n",
    "print(\"Residual sum of squares: %.2f\"\n",
    "      % np.mean((yhat_dev_nn - y_dev) ** 2))\n",
    "\n",
    "print('Root Mean Squared Error: %.2f' % np.sqrt(mean_squared_error(y_dev, yhat_dev_nn)))\n",
    "print('Mean Absolute Error: %.2f' % mean_absolute_error(y_dev, yhat_dev_nn))\n",
    "print('Accuracy:', accuracy(y_dev, yhat_dev_nn))"
   ]
  },
  {
   "cell_type": "markdown",
   "metadata": {},
   "source": [
    "<font color='green'> Plot"
   ]
  },
  {
   "cell_type": "code",
   "execution_count": 144,
   "metadata": {},
   "outputs": [
    {
     "data": {
      "image/png": "[encoded data removed]",
      "text/plain": [
       "<Figure size 1080x432 with 2 Axes>"
      ]
     },
     "metadata": {
      "needs_background": "light"
     },
     "output_type": "display_data"
    }
   ],
   "source": [
    "fig, axes = plt.subplots(1, 2, sharey=True, figsize=(15,6))\n",
    "sns.kdeplot(x=y_train, ax=axes[0], color=\"r\", label=\"Actual Value\")\n",
    "sns.kdeplot(x=yhat_train_nn, ax=axes[0], color=\"b\", label=\"Fitted Values\" )\n",
    "axes[0].set_title('Actual vs Fitted Values for Redshift in Train Set')\n",
    "\n",
    "sns.kdeplot(x=y_dev, ax=axes[1], color=\"r\", label=\"Actual Value\")\n",
    "sns.kdeplot(x=yhat_dev_nn, ax=axes[1], color=\"b\", label=\"Fitted Values\")\n",
    "axes[1].set_title('Actual vs Fitted Values for Redshift in Dev Set')\n",
    "\n",
    "axes[0].legend()\n",
    "axes[1].legend()\n",
    "plt.show();"
   ]
  },
  {
   "cell_type": "code",
   "execution_count": 141,
   "metadata": {
    "scrolled": true
   },
   "outputs": [
    {
     "data": {
      "image/png": "[encoded data removed]",
      "text/plain": [
       "<Figure size 432x288 with 1 Axes>"
      ]
     },
     "metadata": {
      "needs_background": "light"
     },
     "output_type": "display_data"
    }
   ],
   "source": [
    "plt.plot(history.history['loss'], label='train')\n",
    "plt.plot(history.history['val_loss'], label='test')\n",
    "plt.legend()\n",
    "plt.show()"
   ]
  },
  {
   "cell_type": "markdown",
   "metadata": {},
   "source": [
    "<font color='green'> Early stopping\n",
    "see https://machinelearningmastery.com/how-to-stop-training-deep-neural-networks-at-the-right-time-using-early-stopping/"
   ]
  },
  {
   "cell_type": "markdown",
   "metadata": {},
   "source": [
    "<font color='green'>Save model to file"
   ]
  },
  {
   "cell_type": "code",
   "execution_count": 142,
   "metadata": {},
   "outputs": [
    {
     "name": "stdout",
     "output_type": "stream",
     "text": [
      "INFO:tensorflow:Assets written to: Z_NN.pd/assets\n"
     ]
    }
   ],
   "source": [
    "Z_NN.save('Z_NN.pd')"
   ]
  },
  {
   "cell_type": "code",
   "execution_count": 143,
   "metadata": {},
   "outputs": [
    {
     "name": "stdout",
     "output_type": "stream",
     "text": [
      "Stored 'yhat_train_nn' (ndarray)\n",
      "Stored 'yhat_dev_nn' (ndarray)\n"
     ]
    }
   ],
   "source": [
    "%store yhat_train_nn\n",
    "%store yhat_dev_nn"
   ]
  },
  {
   "cell_type": "code",
   "execution_count": null,
   "metadata": {},
   "outputs": [],
   "source": []
  }
 ],
 "metadata": {
  "kernelspec": {
   "display_name": "Python 3.6.5 64-bit",
   "language": "python",
   "name": "python36564bit93b81c14a79841988c96843b1cebe27c"
  },
  "language_info": {
   "codemirror_mode": {
    "name": "ipython",
    "version": 3
   },
   "file_extension": ".py",
   "mimetype": "text/x-python",
   "name": "python",
   "nbconvert_exporter": "python",
   "pygments_lexer": "ipython3",
   "version": "3.6.5"
  },
  "toc-autonumbering": false
 },
 "nbformat": 4,
 "nbformat_minor": 4
}
