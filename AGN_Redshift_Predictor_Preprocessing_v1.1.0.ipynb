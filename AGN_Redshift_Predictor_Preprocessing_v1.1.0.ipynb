{
 "cells": [
  {
   "cell_type": "markdown",
   "metadata": {},
   "source": [
    "<h1> <center><font color='green' > <b>AGN Redshift Predicetion for AGNDB</b></font> </center></h1>\n",
    "<h1> Data Preprocessing </h1>\n",
    "by Sicong Huang  <br>\n",
    "<font color='blue'>Python Version: 3.6.5 <br>\n",
    "AGNDB Version: 1.1.0"
   ]
  },
  {
   "cell_type": "markdown",
   "metadata": {},
   "source": [
    "# THE QUESTION: <br><font color='green'>How to use ML methods to predict photometric redshift for agns in AGNDB?</font>"
   ]
  },
  {
   "cell_type": "markdown",
   "metadata": {},
   "source": [
    "# Goal of preprocessing\n",
    "<font color='green'>\n",
    "    \n",
    "- Select subsample of pure agn, where redshift and magnitudes are complete. \n",
    "- Fill in missing values if not complete."
   ]
  },
  {
   "cell_type": "markdown",
   "metadata": {},
   "source": [
    "# IMPORT LIBRARIES"
   ]
  },
  {
   "cell_type": "code",
   "execution_count": 29,
   "metadata": {},
   "outputs": [],
   "source": [
    "# System\n",
    "import os\n",
    "import glob\n",
    "from tqdm import tqdm\n",
    "from IPython.display import Markdown, display, Audio\n",
    "from copy import deepcopy\n",
    "# Web Scraping\n",
    "\n",
    "# Data Analysis\n",
    "import pandas as pd\n",
    "from pandas_profiling import ProfileReport\n",
    "import numpy as np\n",
    "from scipy import stats\n",
    "\n",
    "# Data Visualization\n",
    "import matplotlib.pyplot as plt\n",
    "import seaborn as sns\n",
    "%matplotlib inline"
   ]
  },
  {
   "cell_type": "markdown",
   "metadata": {},
   "source": [
    "# Functions"
   ]
  },
  {
   "cell_type": "code",
   "execution_count": 2,
   "metadata": {},
   "outputs": [],
   "source": [
    "def sound_effect(fail=0):\n",
    "    \"\"\"\n",
    "    Play a sound when job is finished\n",
    "    \"\"\"\n",
    "    if fail == 0:\n",
    "        sound_file = '/data/home/sicong/sounds/jobs-done_1.mp3'\n",
    "        display(Audio(sound_file, autoplay=True))\n",
    "    else:\n",
    "        sound_file = '/data/home/sicong/sounds/oh-shit-im-sorry_0001.mp3'\n",
    "        display(Audio(sound_file, autoplay=True))"
   ]
  },
  {
   "cell_type": "code",
   "execution_count": 3,
   "metadata": {},
   "outputs": [],
   "source": [
    "def printmd(string):\n",
    "    \"\"\"\n",
    "    print in markdown style\n",
    "    \"\"\"\n",
    "    display(Markdown(string))"
   ]
  },
  {
   "cell_type": "code",
   "execution_count": 4,
   "metadata": {
    "scrolled": true
   },
   "outputs": [
    {
     "data": {
      "text/markdown": [
       "**<font color='purple'>This is a test.**"
      ],
      "text/plain": [
       "<IPython.core.display.Markdown object>"
      ]
     },
     "metadata": {},
     "output_type": "display_data"
    }
   ],
   "source": [
    "printmd(\"**<font color='purple'>This is a test.**\")"
   ]
  },
  {
   "cell_type": "code",
   "execution_count": 5,
   "metadata": {},
   "outputs": [],
   "source": [
    "def non_nan_percent(df, cols):\n",
    "    '''\n",
    "    This function returns the percentage \n",
    "    of non-NaN values sorted by percentage\n",
    "    '''\n",
    "    perc = {col:f\"{len(df[col].dropna())/len(df[col])*100 :.2f} %\" for col in cols}\n",
    "    perc = dict(sorted(perc.items(), key=lambda item: float(item[1].split('%')[0]), reverse=True))\n",
    "    return perc"
   ]
  },
  {
   "cell_type": "code",
   "execution_count": 6,
   "metadata": {},
   "outputs": [],
   "source": [
    "def nan_percent(df, cols):\n",
    "    '''\n",
    "    This function returns the percentage \n",
    "    of NaN values sorted by percentage\n",
    "    '''\n",
    "    perc = {col:f\"{(1-len(df[col].dropna())/len(df[col]))*100 :.2f} %\" for col in cols}\n",
    "    perc = dict(sorted(perc.items(), key=lambda item: float(item[1].split('%')[0]), reverse=False))\n",
    "    return perc"
   ]
  },
  {
   "cell_type": "code",
   "execution_count": 7,
   "metadata": {},
   "outputs": [],
   "source": [
    "def combine_columns(df, column_names):\n",
    "    '''\n",
    "    This function merges the columns \n",
    "    with first come first serve order\n",
    "    and returns a new df series\n",
    "    '''\n",
    "    col = df[column_names[0]]\n",
    "    for name in column_names[1:]:\n",
    "        col = col.combine_first(df[name])\n",
    "    return col"
   ]
  },
  {
   "cell_type": "markdown",
   "metadata": {},
   "source": [
    "# Data Requirements \n",
    "Identify the necessary data content, formats and sources for initial data collection."
   ]
  },
  {
   "cell_type": "code",
   "execution_count": 9,
   "metadata": {},
   "outputs": [
    {
     "data": {
      "text/plain": [
       "['/data/blackbase/final/master-Redshift-store.csv',\n",
       " '/data/blackbase/final/master-Morphology-store.csv',\n",
       " '/data/blackbase/final/master-Photometry-store.csv',\n",
       " '/data/blackbase/final/master-converted-Photometry-store.csv',\n",
       " '/data/blackbase/final/master-merged-Photometry-store.csv',\n",
       " '/data/blackbase/final/master-merged-Redshift-store.csv',\n",
       " '/data/blackbase/final/master-converted-Morphology-store.csv',\n",
       " '/data/blackbase/final/master-merged-Morphology-store.csv',\n",
       " '/data/blackbase/final/master-merged-all-store.csv']"
      ]
     },
     "execution_count": 9,
     "metadata": {},
     "output_type": "execute_result"
    }
   ],
   "source": [
    "glob.glob('/data/blackbase/final/*master*')"
   ]
  },
  {
   "cell_type": "code",
   "execution_count": 10,
   "metadata": {},
   "outputs": [],
   "source": [
    "# master tables\n",
    "morph_csv = '/data/blackbase/final/master-merged-Morphology-store.csv'\n",
    "photo_csv = '/data/blackbase/final/master-merged-Photometry-store.csv'\n",
    "redshift_csv = '/data/blackbase/final/master-merged-Redshift-store.csv'"
   ]
  },
  {
   "cell_type": "markdown",
   "metadata": {},
   "source": [
    "# Data Collection\n",
    "Perform data collection and data assessment."
   ]
  },
  {
   "cell_type": "code",
   "execution_count": 30,
   "metadata": {},
   "outputs": [
    {
     "name": "stderr",
     "output_type": "stream",
     "text": [
      "/home/jack/.pyenv/versions/3.6.5/lib/python3.6/site-packages/IPython/core/interactiveshell.py:3072: DtypeWarning: Columns (3,7,8,9,10,11) have mixed types.Specify dtype option on import or set low_memory=False.\n",
      "  interactivity=interactivity, compiler=compiler, result=result)\n",
      "/home/jack/.pyenv/versions/3.6.5/lib/python3.6/site-packages/IPython/core/interactiveshell.py:3072: DtypeWarning: Columns (4,6,7,8,9,10,11,12,13,14,15,16,17,18,19,20,21,22,23,24,25,26,27,28,29,30,31,32,33,34) have mixed types.Specify dtype option on import or set low_memory=False.\n",
      "  interactivity=interactivity, compiler=compiler, result=result)\n"
     ]
    }
   ],
   "source": [
    "# read into pandas dataframe\n",
    "df_morph_original = pd.read_csv('/data/blackbase/final/master-merged-Morphology-store.csv');\n",
    "df_photo_original = pd.read_csv('/data/blackbase/final/master-merged-Photometry-store.csv');\n",
    "df_redshift_original = pd.read_csv('/data/blackbase/final/master-merged-Redshift-store.csv');"
   ]
  },
  {
   "cell_type": "code",
   "execution_count": 12,
   "metadata": {},
   "outputs": [
    {
     "data": {
      "text/markdown": [
       "We have 1436614 sources."
      ],
      "text/plain": [
       "<IPython.core.display.Markdown object>"
      ]
     },
     "metadata": {},
     "output_type": "display_data"
    }
   ],
   "source": [
    "printmd(f'We have {len(df_photo_original)} sources.')"
   ]
  },
  {
   "cell_type": "code",
   "execution_count": 13,
   "metadata": {
    "scrolled": true
   },
   "outputs": [
    {
     "data": {
      "text/markdown": [
       "We have 204 columns for photometry datasets."
      ],
      "text/plain": [
       "<IPython.core.display.Markdown object>"
      ]
     },
     "metadata": {},
     "output_type": "display_data"
    },
    {
     "data": {
      "text/markdown": [
       "We have 19 columns for redshift datasets."
      ],
      "text/plain": [
       "<IPython.core.display.Markdown object>"
      ]
     },
     "metadata": {},
     "output_type": "display_data"
    },
    {
     "data": {
      "text/markdown": [
       "We have 13 columns for morphology datasets."
      ],
      "text/plain": [
       "<IPython.core.display.Markdown object>"
      ]
     },
     "metadata": {},
     "output_type": "display_data"
    }
   ],
   "source": [
    "printmd(f'We have {len(df_photo_original.columns)} columns for photometry datasets.')\n",
    "printmd(f'We have {len(df_redshift_original.columns)} columns for redshift datasets.')\n",
    "printmd(f'We have {len(df_morph_original.columns)} columns for morphology datasets.')"
   ]
  },
  {
   "cell_type": "markdown",
   "metadata": {},
   "source": [
    "# Data Preparation\n",
    "Data must be prepared in a way that addresses missing or invalid values and removes duplicates, toward ensuring that everything is properly formatted."
   ]
  },
  {
   "cell_type": "markdown",
   "metadata": {},
   "source": [
    "## Feature Selection"
   ]
  },
  {
   "cell_type": "markdown",
   "metadata": {},
   "source": [
    "<font color='green'>Before we move on, let's set the 'np.NaN' values in __df_morph_original__ to be 'unknown'. In this way, the classification column won't affect the sorting of master table based on missing values."
   ]
  },
  {
   "cell_type": "code",
   "execution_count": 31,
   "metadata": {},
   "outputs": [],
   "source": [
    "df_morph_original['best_class'] = df_morph_original['best_class'].replace(np.NaN, 'unknown')"
   ]
  },
  {
   "cell_type": "markdown",
   "metadata": {},
   "source": [
    "<font color='green'> For photometry table, select only magnitude columns."
   ]
  },
  {
   "cell_type": "code",
   "execution_count": 15,
   "metadata": {
    "scrolled": true
   },
   "outputs": [
    {
     "data": {
      "text/markdown": [
       "**<font color='red'>Photometry table columns:**"
      ],
      "text/plain": [
       "<IPython.core.display.Markdown object>"
      ]
     },
     "metadata": {},
     "output_type": "display_data"
    },
    {
     "name": "stdout",
     "output_type": "stream",
     "text": [
      "('Unnamed: 0', '100.00 %')\n",
      "('Unnamed: 0.1', '100.00 %')\n",
      "('Unnamed: 0.1.1', '100.00 %')\n",
      "('RA', '100.00 %')\n",
      "('DEC', '100.00 %')\n",
      "('u_extinction', '53.33 %')\n",
      "('u_mag', '51.34 %')\n",
      "('r_mag', '51.33 %')\n",
      "('i_mag', '51.08 %')\n",
      "('g_mag', '50.81 %')\n",
      "('z_mag', '50.74 %')\n",
      "('e_i_mag', '50.45 %')\n",
      "('e_z_mag', '50.45 %')\n",
      "('e_r_mag', '50.41 %')\n",
      "('e_u_mag', '50.40 %')\n",
      "('e_g_mag', '47.25 %')\n",
      "('r_extinction', '45.96 %')\n",
      "('g_extinction', '44.89 %')\n",
      "('i_extinction', '43.56 %')\n",
      "('z_extinction', '43.56 %')\n",
      "('W1_mag', '41.57 %')\n",
      "('E_B-V', '33.97 %')\n",
      "('e_rf10', '23.37 %')\n",
      "('rf10', '23.37 %')\n",
      "('e_rf12', '23.37 %')\n",
      "('rf12', '23.37 %')\n",
      "('W2_mag', '21.41 %')\n",
      "('e_W1_mag', '21.38 %')\n",
      "('W3_mag', '21.37 %')\n",
      "('W4_mag', '21.37 %')\n",
      "('e_W2_mag', '21.21 %')\n",
      "('e_W4_mag', '18.30 %')\n",
      "('e_W3_mag', '18.09 %')\n",
      "('e_counts', '10.42 %')\n",
      "('counts', '10.42 %')\n",
      "('e_xf2', '10.28 %')\n",
      "('xf2', '10.28 %')\n",
      "('e_xf6', '10.16 %')\n",
      "('xf6', '10.16 %')\n",
      "('e_xf16', '10.04 %')\n",
      "('xf16', '10.04 %')\n",
      "('e_xf15', '9.91 %')\n",
      "('xf15', '9.91 %')\n",
      "('e_xf17', '9.83 %')\n",
      "('xf17', '9.83 %')\n",
      "('e_HR2', '9.75 %')\n",
      "('HR2', '9.75 %')\n",
      "('e_HR3', '9.68 %')\n",
      "('HR3', '9.68 %')\n",
      "('e_xf14', '9.57 %')\n",
      "('xf14', '9.57 %')\n",
      "('K_mag', '9.51 %')\n",
      "('e_HR1', '9.30 %')\n",
      "('HR1', '9.30 %')\n",
      "('e_K_mag', '9.25 %')\n",
      "('e_xf18', '9.18 %')\n",
      "('xf18', '9.18 %')\n",
      "('e_HR4', '8.89 %')\n",
      "('HR4', '8.89 %')\n",
      "('J_mag', '7.32 %')\n",
      "('e_J_mag', '7.30 %')\n",
      "('H_mag', '7.30 %')\n",
      "('e_H_mag', '7.26 %')\n",
      "('NUV_mag', '7.08 %')\n",
      "('e_NUV_mag', '7.03 %')\n",
      "('e_Y_mag', '6.47 %')\n",
      "('Y_mag', '6.47 %')\n",
      "('e_HR5', '4.97 %')\n",
      "('HR5', '4.97 %')\n",
      "('e_HR6', '4.97 %')\n",
      "('HR6', '4.97 %')\n",
      "('e_HR7', '4.96 %')\n",
      "('HR7', '4.96 %')\n",
      "('xf7', '4.89 %')\n",
      "('e_xf7', '4.88 %')\n",
      "('e_xf20', '4.60 %')\n",
      "('xf20', '4.60 %')\n",
      "('e_xf11', '4.31 %')\n",
      "('xf11', '4.31 %')\n",
      "('e_xf21', '3.89 %')\n",
      "('xf21', '3.89 %')\n",
      "('FUV_mag', '2.71 %')\n",
      "('e_FUV_mag', '2.66 %')\n",
      "('B_mag', '2.43 %')\n",
      "('R_mag', '0.94 %')\n",
      "('e_xf22', '0.92 %')\n",
      "('xf22', '0.92 %')\n",
      "('snr_g', '0.89 %')\n",
      "('snr_i', '0.89 %')\n",
      "('snr_r', '0.89 %')\n",
      "('snr_u', '0.89 %')\n",
      "('snr_z', '0.89 %')\n",
      "('e_B_mag', '0.80 %')\n",
      "('e_R_mag', '0.80 %')\n",
      "('I_mag', '0.76 %')\n",
      "('e_I_mag', '0.75 %')\n",
      "('rf5', '0.68 %')\n",
      "('xcr1', '0.48 %')\n",
      "('e_xf3', '0.41 %')\n",
      "('xf3', '0.41 %')\n",
      "('e_xf10', '0.40 %')\n",
      "('xf10', '0.40 %')\n",
      "('xf1', '0.38 %')\n",
      "('e_xf1', '0.32 %')\n",
      "('V_mag', '0.28 %')\n",
      "('rf6', '0.24 %')\n",
      "('e_xcr1', '0.19 %')\n",
      "('snr_W1', '0.19 %')\n",
      "('snr_W2', '0.19 %')\n",
      "('snr_W3', '0.19 %')\n",
      "('snr_W4', '0.19 %')\n",
      "('e_xfd1', '0.17 %')\n",
      "('xfd1', '0.17 %')\n",
      "('e_xf5', '0.13 %')\n",
      "('xf5', '0.13 %')\n",
      "('e_xf4', '0.12 %')\n",
      "('xf4', '0.12 %')\n",
      "('e_xf9', '0.09 %')\n",
      "('xf9', '0.09 %')\n",
      "('rf7', '0.07 %')\n",
      "('U_mag', '0.06 %')\n",
      "('e_V_mag', '0.06 %')\n",
      "('HR8', '0.06 %')\n",
      "('e_rf7', '0.06 %')\n",
      "('e_rf15', '0.06 %')\n",
      "('rf15', '0.06 %')\n",
      "('e_rf16', '0.06 %')\n",
      "('rf16', '0.06 %')\n",
      "('e_U_mag', '0.05 %')\n",
      "('e_rf6', '0.05 %')\n",
      "('Velocity_ned', '0.04 %')\n",
      "('e_xf23', '0.04 %')\n",
      "('xf23', '0.04 %')\n",
      "('xf19', '0.03 %')\n",
      "('xf12', '0.02 %')\n",
      "('e_rf5', '0.02 %')\n",
      "('Magnitude and Filter_ned', '0.01 %')\n",
      "('Photometry Points_ned', '0.01 %')\n",
      "('FLUX_SYSTEM_U_simbad', '0.01 %')\n",
      "('FLUX_QUAL_U_simbad', '0.01 %')\n",
      "('FLUX_UNIT_U_simbad', '0.01 %')\n",
      "('FLUX_SYSTEM_B_simbad', '0.01 %')\n",
      "('FLUX_UNIT_B_simbad', '0.01 %')\n",
      "('FLUX_SYSTEM_V_simbad', '0.01 %')\n",
      "('FLUX_UNIT_V_simbad', '0.01 %')\n",
      "('FLUX_SYSTEM_R_simbad', '0.01 %')\n",
      "('FLUX_UNIT_R_simbad', '0.01 %')\n",
      "('FLUX_SYSTEM_I_simbad', '0.01 %')\n",
      "('FLUX_UNIT_I_simbad', '0.01 %')\n",
      "('FLUX_SYSTEM_J_simbad', '0.01 %')\n",
      "('FLUX_UNIT_J_simbad', '0.01 %')\n",
      "('FLUX_SYSTEM_H_simbad', '0.01 %')\n",
      "('FLUX_UNIT_H_simbad', '0.01 %')\n",
      "('FLUX_SYSTEM_K_simbad', '0.01 %')\n",
      "('FLUX_UNIT_K_simbad', '0.01 %')\n",
      "('FLUX_SYSTEM_u_simbad', '0.01 %')\n",
      "('FLUX_UNIT_u_simbad', '0.01 %')\n",
      "('FLUX_SYSTEM_g_simbad', '0.01 %')\n",
      "('FLUX_UNIT_g_simbad', '0.01 %')\n",
      "('FLUX_SYSTEM_r_simbad', '0.01 %')\n",
      "('FLUX_UNIT_r_simbad', '0.01 %')\n",
      "('FLUX_SYSTEM_i_simbad', '0.01 %')\n",
      "('FLUX_UNIT_i_simbad', '0.01 %')\n",
      "('FLUX_SYSTEM_z_simbad', '0.01 %')\n",
      "('FLUX_UNIT_z_simbad', '0.01 %')\n",
      "('velocities:Value_simbad', '0.01 %')\n",
      "('velocities:me_simbad', '0.01 %')\n",
      "('1450mag', '0.01 %')\n",
      "('xf8', '0.01 %')\n",
      "('e_xf13', '0.01 %')\n",
      "('xf13', '0.01 %')\n",
      "('e_HR8', '0.01 %')\n",
      "('rf3', '0.01 %')\n",
      "('rf9', '0.01 %')\n",
      "('rf13', '0.01 %')\n",
      "('F143', '0.01 %')\n",
      "('nan_column', '0.00 %')\n",
      "('e_1450Mag', '0.00 %')\n",
      "('1450Mag', '0.00 %')\n",
      "('e_1450mag', '0.00 %')\n",
      "('e_xf8', '0.00 %')\n",
      "('e_xf12', '0.00 %')\n",
      "('e_xf19', '0.00 %')\n",
      "('xl1', '0.00 %')\n",
      "('xl2', '0.00 %')\n",
      "('xl3', '0.00 %')\n",
      "('xl4', '0.00 %')\n",
      "('xl5', '0.00 %')\n",
      "('e_HR9', '0.00 %')\n",
      "('HR9', '0.00 %')\n",
      "('e_rf2', '0.00 %')\n",
      "('rf2', '0.00 %')\n",
      "('e_rf3', '0.00 %')\n",
      "('e_rf4', '0.00 %')\n",
      "('rf4', '0.00 %')\n",
      "('e_rf8', '0.00 %')\n",
      "('rf8', '0.00 %')\n",
      "('e_rf9', '0.00 %')\n",
      "('e_rf11', '0.00 %')\n",
      "('rf11', '0.00 %')\n",
      "('e_rf13', '0.00 %')\n",
      "('e_rf14', '0.00 %')\n",
      "('rf14', '0.00 %')\n",
      "('e_F143', '0.00 %')\n",
      "----------------------------------------------------------------------------------------------------\n"
     ]
    },
    {
     "data": {
      "text/markdown": [
       "**<font color='red'>Classification table columns:**"
      ],
      "text/plain": [
       "<IPython.core.display.Markdown object>"
      ]
     },
     "metadata": {},
     "output_type": "display_data"
    },
    {
     "name": "stdout",
     "output_type": "stream",
     "text": [
      "('Unnamed: 0', '100.00 %')\n",
      "('Unnamed: 0.1', '100.00 %')\n",
      "('Unnamed: 0.1.1', '100.00 %')\n",
      "('RA', '100.00 %')\n",
      "('DEC', '100.00 %')\n",
      "('best_class', '100.00 %')\n",
      "('xray_class', '66.58 %')\n",
      "('spec_class', '48.95 %')\n",
      "('gen_class', '44.00 %')\n",
      "('SED_class', '40.90 %')\n",
      "('image_class', '10.88 %')\n",
      "('SP_TYPE_simbad', '2.68 %')\n",
      "('nan_column', '0.00 %')\n",
      "----------------------------------------------------------------------------------------------------\n"
     ]
    },
    {
     "data": {
      "text/markdown": [
       "**<font color='red'>Redshift table columns:**"
      ],
      "text/plain": [
       "<IPython.core.display.Markdown object>"
      ]
     },
     "metadata": {},
     "output_type": "display_data"
    },
    {
     "name": "stdout",
     "output_type": "stream",
     "text": [
      "('Unnamed: 0', '100.00 %')\n",
      "('Unnamed: 0.1', '100.00 %')\n",
      "('Unnamed: 0.1.1', '100.00 %')\n",
      "('RA', '100.00 %')\n",
      "('DEC', '100.00 %')\n",
      "('best_Z', '52.27 %')\n",
      "('f_best_Z', '52.27 %')\n",
      "('q_Z', '50.37 %')\n",
      "('phot_Z', '43.67 %')\n",
      "('p_phot_Z', '43.60 %')\n",
      "('max_phot_Z', '43.47 %')\n",
      "('min_phot_Z', '42.06 %')\n",
      "('spec_Z', '17.62 %')\n",
      "('Z', '17.09 %')\n",
      "('e_spec_Z', '13.74 %')\n",
      "('e_best_Z', '13.74 %')\n",
      "('nan_column', '0.00 %')\n",
      "('e_phot_Z', '0.00 %')\n",
      "('e_Z', '0.00 %')\n"
     ]
    }
   ],
   "source": [
    "# look at all the columns we have in the original table\n",
    "# with non-Nan percentage\n",
    "printmd(\"**<font color='red'>Photometry table columns:**\")\n",
    "perc = non_nan_percent(df_photo_original,df_photo_original.columns)\n",
    "print(*perc.items(), sep='\\n')\n",
    "print('-'*100)\n",
    "\n",
    "printmd(\"**<font color='red'>Classification table columns:**\")\n",
    "perc = non_nan_percent(df_morph_original,df_morph_original.columns)\n",
    "print(*perc.items(), sep='\\n')\n",
    "print('-'*100)\n",
    "\n",
    "printmd(\"**<font color='red'>Redshift table columns:**\")\n",
    "perc = non_nan_percent(df_redshift_original,df_redshift_original.columns)\n",
    "print(*perc.items(), sep='\\n')"
   ]
  },
  {
   "cell_type": "markdown",
   "metadata": {},
   "source": [
    "<font color='green'>*best_class* column in df_morph_original and *best_Z* column in df_redshift_original are created by following order:<br>\n",
    "- \"spec_class\" > \"SDSS_image_class\" > \"SED_class\" > \"vi_class\" > \"optical_class\" > \"gen_class\" > \"Mtype\""
   ]
  },
  {
   "cell_type": "code",
   "execution_count": 14,
   "metadata": {},
   "outputs": [
    {
     "name": "stdout",
     "output_type": "stream",
     "text": [
      "photometry and morphology table have the same indices.\n",
      "photometry and redshift table have the same indices.\n"
     ]
    }
   ],
   "source": [
    "# check if df_morph_original, df_photo_original and df_redshift_original shares the same index system,\n",
    "# i.e, if the same index corresponds to the same source\n",
    "if df_photo_original['RA'].equals(df_morph_original['RA']):\n",
    "    print('photometry and morphology table have the same indices.')\n",
    "\n",
    "if df_photo_original['RA'].equals(df_redshift_original['RA']):\n",
    "    print('photometry and redshift table have the same indices.')"
   ]
  },
  {
   "cell_type": "code",
   "execution_count": 32,
   "metadata": {},
   "outputs": [],
   "source": [
    "# merge with df_photo_original\n",
    "df_photo_original['best_class'] = df_morph_original[\"best_class\"]\n",
    "df_photo_original['best_z'] = df_redshift_original[\"best_Z\"]\n",
    "df_photo_original['best_z_error'] = df_redshift_original[\"e_best_Z\"]"
   ]
  },
  {
   "cell_type": "code",
   "execution_count": 33,
   "metadata": {},
   "outputs": [
    {
     "data": {
      "text/html": [
       "<div>\n",
       "<style scoped>\n",
       "    .dataframe tbody tr th:only-of-type {\n",
       "        vertical-align: middle;\n",
       "    }\n",
       "\n",
       "    .dataframe tbody tr th {\n",
       "        vertical-align: top;\n",
       "    }\n",
       "\n",
       "    .dataframe thead th {\n",
       "        text-align: right;\n",
       "    }\n",
       "</style>\n",
       "<table border=\"1\" class=\"dataframe\">\n",
       "  <thead>\n",
       "    <tr style=\"text-align: right;\">\n",
       "      <th></th>\n",
       "      <th>Unnamed: 0</th>\n",
       "      <th>Unnamed: 0.1</th>\n",
       "      <th>Unnamed: 0.1.1</th>\n",
       "      <th>Velocity_ned</th>\n",
       "      <th>Magnitude and Filter_ned</th>\n",
       "      <th>Photometry Points_ned</th>\n",
       "      <th>FLUX_SYSTEM_U_simbad</th>\n",
       "      <th>FLUX_QUAL_U_simbad</th>\n",
       "      <th>FLUX_UNIT_U_simbad</th>\n",
       "      <th>FLUX_SYSTEM_B_simbad</th>\n",
       "      <th>...</th>\n",
       "      <th>snr_r</th>\n",
       "      <th>snr_u</th>\n",
       "      <th>snr_z</th>\n",
       "      <th>snr_W1</th>\n",
       "      <th>snr_W2</th>\n",
       "      <th>snr_W3</th>\n",
       "      <th>snr_W4</th>\n",
       "      <th>best_class</th>\n",
       "      <th>best_z</th>\n",
       "      <th>best_z_error</th>\n",
       "    </tr>\n",
       "  </thead>\n",
       "  <tbody>\n",
       "    <tr>\n",
       "      <th>0</th>\n",
       "      <td>0</td>\n",
       "      <td>0</td>\n",
       "      <td>0</td>\n",
       "      <td>809807.0</td>\n",
       "      <td>NaN</td>\n",
       "      <td>0.0</td>\n",
       "      <td>NaN</td>\n",
       "      <td>NaN</td>\n",
       "      <td>NaN</td>\n",
       "      <td>NaN</td>\n",
       "      <td>...</td>\n",
       "      <td>NaN</td>\n",
       "      <td>NaN</td>\n",
       "      <td>NaN</td>\n",
       "      <td>NaN</td>\n",
       "      <td>NaN</td>\n",
       "      <td>NaN</td>\n",
       "      <td>NaN</td>\n",
       "      <td>unknown</td>\n",
       "      <td>2.7010</td>\n",
       "      <td>0.0</td>\n",
       "    </tr>\n",
       "    <tr>\n",
       "      <th>1</th>\n",
       "      <td>1</td>\n",
       "      <td>1</td>\n",
       "      <td>1</td>\n",
       "      <td>278.0</td>\n",
       "      <td>0.9</td>\n",
       "      <td>51.0</td>\n",
       "      <td>NaN</td>\n",
       "      <td>NaN</td>\n",
       "      <td>NaN</td>\n",
       "      <td>NaN</td>\n",
       "      <td>...</td>\n",
       "      <td>4.90</td>\n",
       "      <td>1.48</td>\n",
       "      <td>3.48</td>\n",
       "      <td>33.85</td>\n",
       "      <td>34.65</td>\n",
       "      <td>30.4</td>\n",
       "      <td>5.75</td>\n",
       "      <td>galaxy</td>\n",
       "      <td>2.4150</td>\n",
       "      <td>0.0</td>\n",
       "    </tr>\n",
       "    <tr>\n",
       "      <th>2</th>\n",
       "      <td>2</td>\n",
       "      <td>2</td>\n",
       "      <td>2</td>\n",
       "      <td>NaN</td>\n",
       "      <td>NaN</td>\n",
       "      <td>6.0</td>\n",
       "      <td>False</td>\n",
       "      <td>False</td>\n",
       "      <td>False</td>\n",
       "      <td>False</td>\n",
       "      <td>...</td>\n",
       "      <td>2.54</td>\n",
       "      <td>1.45</td>\n",
       "      <td>2.38</td>\n",
       "      <td>23.90</td>\n",
       "      <td>15.60</td>\n",
       "      <td>3.5</td>\n",
       "      <td>0.50</td>\n",
       "      <td>galaxy</td>\n",
       "      <td>3.5100</td>\n",
       "      <td>0.0</td>\n",
       "    </tr>\n",
       "    <tr>\n",
       "      <th>3</th>\n",
       "      <td>3</td>\n",
       "      <td>3</td>\n",
       "      <td>3</td>\n",
       "      <td>NaN</td>\n",
       "      <td>20.3g</td>\n",
       "      <td>5.0</td>\n",
       "      <td>NaN</td>\n",
       "      <td>NaN</td>\n",
       "      <td>NaN</td>\n",
       "      <td>NaN</td>\n",
       "      <td>...</td>\n",
       "      <td>14.61</td>\n",
       "      <td>3.31</td>\n",
       "      <td>8.01</td>\n",
       "      <td>37.50</td>\n",
       "      <td>37.45</td>\n",
       "      <td>16.9</td>\n",
       "      <td>4.95</td>\n",
       "      <td>galaxy</td>\n",
       "      <td>0.7213</td>\n",
       "      <td>0.0</td>\n",
       "    </tr>\n",
       "    <tr>\n",
       "      <th>4</th>\n",
       "      <td>4</td>\n",
       "      <td>4</td>\n",
       "      <td>4</td>\n",
       "      <td>870897.0</td>\n",
       "      <td>20.9g</td>\n",
       "      <td>5.0</td>\n",
       "      <td>NaN</td>\n",
       "      <td>NaN</td>\n",
       "      <td>NaN</td>\n",
       "      <td>NaN</td>\n",
       "      <td>...</td>\n",
       "      <td>NaN</td>\n",
       "      <td>NaN</td>\n",
       "      <td>NaN</td>\n",
       "      <td>NaN</td>\n",
       "      <td>NaN</td>\n",
       "      <td>NaN</td>\n",
       "      <td>NaN</td>\n",
       "      <td>galaxy</td>\n",
       "      <td>2.3780</td>\n",
       "      <td>0.0</td>\n",
       "    </tr>\n",
       "  </tbody>\n",
       "</table>\n",
       "<p>5 rows × 207 columns</p>\n",
       "</div>"
      ],
      "text/plain": [
       "   Unnamed: 0  Unnamed: 0.1  Unnamed: 0.1.1  Velocity_ned  \\\n",
       "0           0             0               0      809807.0   \n",
       "1           1             1               1         278.0   \n",
       "2           2             2               2           NaN   \n",
       "3           3             3               3           NaN   \n",
       "4           4             4               4      870897.0   \n",
       "\n",
       "  Magnitude and Filter_ned  Photometry Points_ned FLUX_SYSTEM_U_simbad  \\\n",
       "0                      NaN                    0.0                  NaN   \n",
       "1                      0.9                   51.0                  NaN   \n",
       "2                      NaN                    6.0                False   \n",
       "3                    20.3g                    5.0                  NaN   \n",
       "4                    20.9g                    5.0                  NaN   \n",
       "\n",
       "  FLUX_QUAL_U_simbad FLUX_UNIT_U_simbad FLUX_SYSTEM_B_simbad  ...  snr_r  \\\n",
       "0                NaN                NaN                  NaN  ...    NaN   \n",
       "1                NaN                NaN                  NaN  ...   4.90   \n",
       "2              False              False                False  ...   2.54   \n",
       "3                NaN                NaN                  NaN  ...  14.61   \n",
       "4                NaN                NaN                  NaN  ...    NaN   \n",
       "\n",
       "  snr_u snr_z snr_W1 snr_W2 snr_W3 snr_W4 best_class  best_z best_z_error  \n",
       "0   NaN   NaN    NaN    NaN    NaN    NaN    unknown  2.7010          0.0  \n",
       "1  1.48  3.48  33.85  34.65   30.4   5.75     galaxy  2.4150          0.0  \n",
       "2  1.45  2.38  23.90  15.60    3.5   0.50     galaxy  3.5100          0.0  \n",
       "3  3.31  8.01  37.50  37.45   16.9   4.95     galaxy  0.7213          0.0  \n",
       "4   NaN   NaN    NaN    NaN    NaN    NaN     galaxy  2.3780          0.0  \n",
       "\n",
       "[5 rows x 207 columns]"
      ]
     },
     "execution_count": 33,
     "metadata": {},
     "output_type": "execute_result"
    }
   ],
   "source": [
    "df_photo_original.head(5)"
   ]
  },
  {
   "cell_type": "markdown",
   "metadata": {},
   "source": [
    "<font color='green'>Select the features we want:\n",
    "    select top 5% rows and magnitude columns for pure AGN"
   ]
  },
  {
   "cell_type": "code",
   "execution_count": 150,
   "metadata": {},
   "outputs": [],
   "source": [
    "useful_columns = ['RA', 'DEC', 'best_class', 'best_z', 'best_z_error', \n",
    "                  'i_mag', 'r_mag', 'z_mag', 'u_mag', 'g_mag', 'W1_mag', 'W2_mag', 'W4_mag', 'W3_mag']\n",
    "df = deepcopy(df_photo_original)\n",
    "df = df[useful_columns]"
   ]
  },
  {
   "cell_type": "markdown",
   "metadata": {},
   "source": [
    "<font color='green'>Replace AGN=1 and non-AGN=0 in __best_class__ column."
   ]
  },
  {
   "cell_type": "code",
   "execution_count": 94,
   "metadata": {},
   "outputs": [
    {
     "data": {
      "text/plain": [
       "generic_agn    861791\n",
       "unknown        278653\n",
       "star           174484\n",
       "galaxy         101868\n",
       "type2            9020\n",
       "type1            8301\n",
       "blazar           2465\n",
       "lens_system        27\n",
       "false               5\n",
       "Name: best_class, dtype: int64"
      ]
     },
     "execution_count": 94,
     "metadata": {},
     "output_type": "execute_result"
    }
   ],
   "source": [
    "df['best_class'].value_counts()"
   ]
  },
  {
   "cell_type": "code",
   "execution_count": 151,
   "metadata": {},
   "outputs": [],
   "source": [
    "df.rename(columns = {'best_class':'AGN'}, inplace = True)\n",
    "df['AGN'].replace({'generic_agn':True,\n",
    "                   'blazar':True,\n",
    "                   'star':False,\n",
    "                   'galaxy':False,\n",
    "                   'type1':True,\n",
    "                   'type2':True,\n",
    "                   'lens_system':True,\n",
    "                   'unknown': np.nan,\n",
    "                   'false':False\n",
    "                    }, inplace=True)"
   ]
  },
  {
   "cell_type": "code",
   "execution_count": 152,
   "metadata": {},
   "outputs": [],
   "source": [
    "df['AGN']=df['AGN'].astype('float')\n",
    "df = df[df['AGN'] == 1.0 ]"
   ]
  },
  {
   "cell_type": "code",
   "execution_count": 153,
   "metadata": {},
   "outputs": [],
   "source": [
    "# drop class column\n",
    "df = df.drop(['AGN'], axis=1)"
   ]
  },
  {
   "cell_type": "markdown",
   "metadata": {},
   "source": [
    "<font color='green'>sort the df based on missing value counts where the least NaN rows are at the top and select top 10%"
   ]
  },
  {
   "cell_type": "code",
   "execution_count": 154,
   "metadata": {},
   "outputs": [
    {
     "name": "stdout",
     "output_type": "stream",
     "text": [
      "88160\n"
     ]
    }
   ],
   "source": [
    "df = df.iloc[df.isnull().sum(axis=1).mul(1).argsort()]\n",
    "x=round(len(df)*0.1)\n",
    "print(x)\n",
    "df = df.head(x)"
   ]
  },
  {
   "cell_type": "code",
   "execution_count": 155,
   "metadata": {
    "scrolled": false
   },
   "outputs": [
    {
     "data": {
      "text/html": [
       "<div>\n",
       "<style scoped>\n",
       "    .dataframe tbody tr th:only-of-type {\n",
       "        vertical-align: middle;\n",
       "    }\n",
       "\n",
       "    .dataframe tbody tr th {\n",
       "        vertical-align: top;\n",
       "    }\n",
       "\n",
       "    .dataframe thead th {\n",
       "        text-align: right;\n",
       "    }\n",
       "</style>\n",
       "<table border=\"1\" class=\"dataframe\">\n",
       "  <thead>\n",
       "    <tr style=\"text-align: right;\">\n",
       "      <th></th>\n",
       "      <th>RA</th>\n",
       "      <th>DEC</th>\n",
       "      <th>best_z</th>\n",
       "      <th>best_z_error</th>\n",
       "      <th>i_mag</th>\n",
       "      <th>r_mag</th>\n",
       "      <th>z_mag</th>\n",
       "      <th>u_mag</th>\n",
       "      <th>g_mag</th>\n",
       "      <th>W1_mag</th>\n",
       "      <th>W2_mag</th>\n",
       "      <th>W4_mag</th>\n",
       "      <th>W3_mag</th>\n",
       "    </tr>\n",
       "  </thead>\n",
       "  <tbody>\n",
       "    <tr>\n",
       "      <th>count</th>\n",
       "      <td>88160.000000</td>\n",
       "      <td>88160.000000</td>\n",
       "      <td>88160.000000</td>\n",
       "      <td>88160.000000</td>\n",
       "      <td>88160.000000</td>\n",
       "      <td>88160.000000</td>\n",
       "      <td>88160.000000</td>\n",
       "      <td>88160.000000</td>\n",
       "      <td>88160.000000</td>\n",
       "      <td>88160.000000</td>\n",
       "      <td>88160.000000</td>\n",
       "      <td>88160.000000</td>\n",
       "      <td>88160.000000</td>\n",
       "    </tr>\n",
       "    <tr>\n",
       "      <th>mean</th>\n",
       "      <td>207.547855</td>\n",
       "      <td>26.518787</td>\n",
       "      <td>1.728520</td>\n",
       "      <td>-113.985875</td>\n",
       "      <td>19.980789</td>\n",
       "      <td>20.084266</td>\n",
       "      <td>19.855134</td>\n",
       "      <td>21.008371</td>\n",
       "      <td>20.269326</td>\n",
       "      <td>18.916382</td>\n",
       "      <td>18.534894</td>\n",
       "      <td>15.356851</td>\n",
       "      <td>17.005793</td>\n",
       "    </tr>\n",
       "    <tr>\n",
       "      <th>std</th>\n",
       "      <td>76.480548</td>\n",
       "      <td>19.430368</td>\n",
       "      <td>0.808535</td>\n",
       "      <td>1061.491778</td>\n",
       "      <td>1.086400</td>\n",
       "      <td>1.073851</td>\n",
       "      <td>1.080607</td>\n",
       "      <td>1.584740</td>\n",
       "      <td>1.101231</td>\n",
       "      <td>1.039404</td>\n",
       "      <td>1.129350</td>\n",
       "      <td>0.501002</td>\n",
       "      <td>0.809554</td>\n",
       "    </tr>\n",
       "    <tr>\n",
       "      <th>min</th>\n",
       "      <td>1.252397</td>\n",
       "      <td>-23.174169</td>\n",
       "      <td>0.008324</td>\n",
       "      <td>-9999.000000</td>\n",
       "      <td>14.516000</td>\n",
       "      <td>14.936000</td>\n",
       "      <td>10.000000</td>\n",
       "      <td>10.000000</td>\n",
       "      <td>10.000000</td>\n",
       "      <td>11.260000</td>\n",
       "      <td>11.932000</td>\n",
       "      <td>9.926000</td>\n",
       "      <td>10.972000</td>\n",
       "    </tr>\n",
       "    <tr>\n",
       "      <th>25%</th>\n",
       "      <td>178.529682</td>\n",
       "      <td>10.327504</td>\n",
       "      <td>1.062551</td>\n",
       "      <td>0.000000</td>\n",
       "      <td>19.155000</td>\n",
       "      <td>19.326000</td>\n",
       "      <td>19.078000</td>\n",
       "      <td>19.911248</td>\n",
       "      <td>19.512232</td>\n",
       "      <td>18.251000</td>\n",
       "      <td>17.777000</td>\n",
       "      <td>15.118000</td>\n",
       "      <td>16.549000</td>\n",
       "    </tr>\n",
       "    <tr>\n",
       "      <th>50%</th>\n",
       "      <td>210.533680</td>\n",
       "      <td>25.344984</td>\n",
       "      <td>1.683000</td>\n",
       "      <td>0.000000</td>\n",
       "      <td>20.044000</td>\n",
       "      <td>20.167000</td>\n",
       "      <td>19.896000</td>\n",
       "      <td>20.936623</td>\n",
       "      <td>20.361107</td>\n",
       "      <td>19.015000</td>\n",
       "      <td>18.640000</td>\n",
       "      <td>15.416000</td>\n",
       "      <td>17.192000</td>\n",
       "    </tr>\n",
       "    <tr>\n",
       "      <th>75%</th>\n",
       "      <td>237.174936</td>\n",
       "      <td>43.241876</td>\n",
       "      <td>2.312000</td>\n",
       "      <td>0.000000</td>\n",
       "      <td>20.764475</td>\n",
       "      <td>20.876567</td>\n",
       "      <td>20.570936</td>\n",
       "      <td>21.899000</td>\n",
       "      <td>21.083467</td>\n",
       "      <td>19.708000</td>\n",
       "      <td>19.383000</td>\n",
       "      <td>15.677000</td>\n",
       "      <td>17.582000</td>\n",
       "    </tr>\n",
       "    <tr>\n",
       "      <th>max</th>\n",
       "      <td>359.998774</td>\n",
       "      <td>83.923561</td>\n",
       "      <td>6.968027</td>\n",
       "      <td>0.262971</td>\n",
       "      <td>24.731572</td>\n",
       "      <td>25.003962</td>\n",
       "      <td>25.387159</td>\n",
       "      <td>27.499904</td>\n",
       "      <td>27.499904</td>\n",
       "      <td>22.362000</td>\n",
       "      <td>21.378000</td>\n",
       "      <td>16.789000</td>\n",
       "      <td>18.847000</td>\n",
       "    </tr>\n",
       "  </tbody>\n",
       "</table>\n",
       "</div>"
      ],
      "text/plain": [
       "                 RA           DEC        best_z  best_z_error         i_mag  \\\n",
       "count  88160.000000  88160.000000  88160.000000  88160.000000  88160.000000   \n",
       "mean     207.547855     26.518787      1.728520   -113.985875     19.980789   \n",
       "std       76.480548     19.430368      0.808535   1061.491778      1.086400   \n",
       "min        1.252397    -23.174169      0.008324  -9999.000000     14.516000   \n",
       "25%      178.529682     10.327504      1.062551      0.000000     19.155000   \n",
       "50%      210.533680     25.344984      1.683000      0.000000     20.044000   \n",
       "75%      237.174936     43.241876      2.312000      0.000000     20.764475   \n",
       "max      359.998774     83.923561      6.968027      0.262971     24.731572   \n",
       "\n",
       "              r_mag         z_mag         u_mag         g_mag        W1_mag  \\\n",
       "count  88160.000000  88160.000000  88160.000000  88160.000000  88160.000000   \n",
       "mean      20.084266     19.855134     21.008371     20.269326     18.916382   \n",
       "std        1.073851      1.080607      1.584740      1.101231      1.039404   \n",
       "min       14.936000     10.000000     10.000000     10.000000     11.260000   \n",
       "25%       19.326000     19.078000     19.911248     19.512232     18.251000   \n",
       "50%       20.167000     19.896000     20.936623     20.361107     19.015000   \n",
       "75%       20.876567     20.570936     21.899000     21.083467     19.708000   \n",
       "max       25.003962     25.387159     27.499904     27.499904     22.362000   \n",
       "\n",
       "             W2_mag        W4_mag        W3_mag  \n",
       "count  88160.000000  88160.000000  88160.000000  \n",
       "mean      18.534894     15.356851     17.005793  \n",
       "std        1.129350      0.501002      0.809554  \n",
       "min       11.932000      9.926000     10.972000  \n",
       "25%       17.777000     15.118000     16.549000  \n",
       "50%       18.640000     15.416000     17.192000  \n",
       "75%       19.383000     15.677000     17.582000  \n",
       "max       21.378000     16.789000     18.847000  "
      ]
     },
     "execution_count": 155,
     "metadata": {},
     "output_type": "execute_result"
    }
   ],
   "source": [
    "df.describe()"
   ]
  },
  {
   "cell_type": "markdown",
   "metadata": {},
   "source": [
    "<font color='green'> Change best_z_error value > 1 or < 0 to NaN "
   ]
  },
  {
   "cell_type": "code",
   "execution_count": 156,
   "metadata": {},
   "outputs": [],
   "source": [
    "df.loc[(df['best_z_error'] > 1.0) | (df['best_z_error'] < 0.0), 'best_z_error'] = np.nan"
   ]
  },
  {
   "cell_type": "markdown",
   "metadata": {},
   "source": [
    "<font color='green'> Check the missing values again"
   ]
  },
  {
   "cell_type": "code",
   "execution_count": 157,
   "metadata": {
    "scrolled": true
   },
   "outputs": [
    {
     "name": "stdout",
     "output_type": "stream",
     "text": [
      "13 columns:\n",
      "('RA', '0.00 %')\n",
      "('DEC', '0.00 %')\n",
      "('best_z', '0.00 %')\n",
      "('i_mag', '0.00 %')\n",
      "('r_mag', '0.00 %')\n",
      "('z_mag', '0.00 %')\n",
      "('u_mag', '0.00 %')\n",
      "('g_mag', '0.00 %')\n",
      "('W1_mag', '0.00 %')\n",
      "('W2_mag', '0.00 %')\n",
      "('W4_mag', '0.00 %')\n",
      "('W3_mag', '0.00 %')\n",
      "('best_z_error', '1.14 %')\n"
     ]
    }
   ],
   "source": [
    "perc = nan_percent(df,df.columns)\n",
    "print(f'{len(perc)} columns:')\n",
    "print(*perc.items(),sep='\\n')"
   ]
  },
  {
   "cell_type": "markdown",
   "metadata": {},
   "source": [
    "<font color='blue'> After feature selection, we only select top 10% rows (88160) for agn. <br>\n",
    "    The ML training would depend on magnitude columns only. <br>\n",
    "    The range for redshift is  0.008324 -- 6.968027"
   ]
  },
  {
   "cell_type": "markdown",
   "metadata": {},
   "source": [
    "## Train/dev/test set split\n",
    "<font color='green'>\n",
    "<ul>\n",
    "  <li>We select 80% data as training set and remaining 20% as dev set.</li>\n",
    "  <li>We do not have a test set for this project as extrapolation beyond redshift range of our training set is unreliable. Thus we assume that the future unseen data will follow as similar distribution as our dev set.</li>\n",
    "</ul>"
   ]
  },
  {
   "cell_type": "code",
   "execution_count": 158,
   "metadata": {
    "scrolled": true
   },
   "outputs": [],
   "source": [
    "df_train, df_dev = np.split(df.sample(frac=1, random_state=42), [int(.8*len(df))])"
   ]
  },
  {
   "cell_type": "code",
   "execution_count": 159,
   "metadata": {},
   "outputs": [
    {
     "data": {
      "text/plain": [
       "<matplotlib.legend.Legend at 0x7f0bd1fd5358>"
      ]
     },
     "execution_count": 159,
     "metadata": {},
     "output_type": "execute_result"
    },
    {
     "data": {
      "image/png": "[encoded data removed]",
      "text/plain": [
       "<Figure size 504x432 with 1 Axes>"
      ]
     },
     "metadata": {
      "needs_background": "light"
     },
     "output_type": "display_data"
    }
   ],
   "source": [
    "# check z distribution\n",
    "bins_red = np.linspace(0, 6, 30)\n",
    "\n",
    "plt.figure(figsize=(7,6))\n",
    "plt.hist(df_train['best_z'], bins=bins_red, alpha=0.5, label=\"train\", density=True, histtype='step',linewidth=2, log=False)\n",
    "plt.hist(df_dev['best_z'], bins=bins_red, alpha=0.5, label=\"validation\", density=True, histtype='step',linewidth=2, log=False)\n",
    "\n",
    "plt.xlabel(\"Redshift\", size=14)\n",
    "plt.ylabel(\"probability density\", size=14)\n",
    "\n",
    "#plt.ylim([0, 2])\n",
    "\n",
    "#plt.title(\"Redshift distribution\")\n",
    "plt.legend(loc='upper right')\n",
    "\n",
    "#plt.savefig('z_hist.pdf')"
   ]
  },
  {
   "cell_type": "markdown",
   "metadata": {},
   "source": [
    "## Save dataframes to files"
   ]
  },
  {
   "cell_type": "markdown",
   "metadata": {},
   "source": [
    "<font color='green'> Read train/dev/test reports; make sure that dev and test follows the same distribution. "
   ]
  },
  {
   "cell_type": "code",
   "execution_count": 160,
   "metadata": {
    "scrolled": true
   },
   "outputs": [
    {
     "data": {
      "application/vnd.jupyter.widget-view+json": {
       "model_id": "6ac789184e42405b8fa1c975a1b70b3c",
       "version_major": 2,
       "version_minor": 0
      },
      "text/plain": [
       "HBox(children=(FloatProgress(value=0.0, description='Summarize dataset', max=23.0, style=ProgressStyle(descrip…"
      ]
     },
     "metadata": {},
     "output_type": "display_data"
    },
    {
     "name": "stdout",
     "output_type": "stream",
     "text": [
      "\n"
     ]
    },
    {
     "data": {
      "application/vnd.jupyter.widget-view+json": {
       "model_id": "bab86e63918442fe9d5226d7b0773460",
       "version_major": 2,
       "version_minor": 0
      },
      "text/plain": [
       "HBox(children=(FloatProgress(value=0.0, description='Generate report structure', max=1.0, style=ProgressStyle(…"
      ]
     },
     "metadata": {},
     "output_type": "display_data"
    },
    {
     "name": "stdout",
     "output_type": "stream",
     "text": [
      "\n"
     ]
    },
    {
     "data": {
      "application/vnd.jupyter.widget-view+json": {
       "model_id": "58a99be7ae9742b189a9715376560af8",
       "version_major": 2,
       "version_minor": 0
      },
      "text/plain": [
       "HBox(children=(FloatProgress(value=0.0, description='Render HTML', max=1.0, style=ProgressStyle(description_wi…"
      ]
     },
     "metadata": {},
     "output_type": "display_data"
    },
    {
     "name": "stdout",
     "output_type": "stream",
     "text": [
      "\n"
     ]
    },
    {
     "data": {
      "application/vnd.jupyter.widget-view+json": {
       "model_id": "24fa3d6da45b4dc28b9a3e1353e58dce",
       "version_major": 2,
       "version_minor": 0
      },
      "text/plain": [
       "HBox(children=(FloatProgress(value=0.0, description='Export report to file', max=1.0, style=ProgressStyle(desc…"
      ]
     },
     "metadata": {},
     "output_type": "display_data"
    },
    {
     "name": "stdout",
     "output_type": "stream",
     "text": [
      "\n"
     ]
    },
    {
     "data": {
      "application/vnd.jupyter.widget-view+json": {
       "model_id": "135465a0c2db48bd93de846866e5911f",
       "version_major": 2,
       "version_minor": 0
      },
      "text/plain": [
       "HBox(children=(FloatProgress(value=0.0, description='Summarize dataset', max=23.0, style=ProgressStyle(descrip…"
      ]
     },
     "metadata": {},
     "output_type": "display_data"
    },
    {
     "name": "stdout",
     "output_type": "stream",
     "text": [
      "\n"
     ]
    },
    {
     "data": {
      "application/vnd.jupyter.widget-view+json": {
       "model_id": "9633f27686b741f4a897f1f34a9a1cdd",
       "version_major": 2,
       "version_minor": 0
      },
      "text/plain": [
       "HBox(children=(FloatProgress(value=0.0, description='Generate report structure', max=1.0, style=ProgressStyle(…"
      ]
     },
     "metadata": {},
     "output_type": "display_data"
    },
    {
     "name": "stdout",
     "output_type": "stream",
     "text": [
      "\n"
     ]
    },
    {
     "data": {
      "application/vnd.jupyter.widget-view+json": {
       "model_id": "b6335ed0b99c4a978605f77aba0b865d",
       "version_major": 2,
       "version_minor": 0
      },
      "text/plain": [
       "HBox(children=(FloatProgress(value=0.0, description='Render HTML', max=1.0, style=ProgressStyle(description_wi…"
      ]
     },
     "metadata": {},
     "output_type": "display_data"
    },
    {
     "name": "stdout",
     "output_type": "stream",
     "text": [
      "\n"
     ]
    },
    {
     "data": {
      "application/vnd.jupyter.widget-view+json": {
       "model_id": "7025e7d78f7c49ca9b85eba4bcab613c",
       "version_major": 2,
       "version_minor": 0
      },
      "text/plain": [
       "HBox(children=(FloatProgress(value=0.0, description='Export report to file', max=1.0, style=ProgressStyle(desc…"
      ]
     },
     "metadata": {},
     "output_type": "display_data"
    },
    {
     "name": "stdout",
     "output_type": "stream",
     "text": [
      "\n"
     ]
    }
   ],
   "source": [
    "# Train set report\n",
    "profile = ProfileReport(df_train, title='AGN Redshift Predictor Training Set Report v1.1.0', minimal=True)\n",
    "profile.to_file(\"AGNCL_train_set_report_v1.1.0.html\")\n",
    "\n",
    "# Dev set report\n",
    "profile = ProfileReport(df_dev, title='AGN Redshift Predictor Validation Set Report v1.1.0', minimal=True)\n",
    "profile.to_file(\"AGNCL_dev_set_report_v1.1.0.html\")"
   ]
  },
  {
   "cell_type": "markdown",
   "metadata": {},
   "source": [
    "## Data Issues:\n",
    "<font color='red'>\n",
    "<ul>\n",
    "  <li>Limited number of magnitude columns. </li>\n",
    "  <li>Redshift error data is insufficient.</li>\n",
    "</ul>"
   ]
  },
  {
   "cell_type": "markdown",
   "metadata": {},
   "source": [
    "<font color='green'> Save to files."
   ]
  },
  {
   "cell_type": "code",
   "execution_count": 161,
   "metadata": {},
   "outputs": [],
   "source": [
    "df_train.to_pickle('/data/blackbase/notebooks/physics/sicong/AGN_Redshift_Predictor/version_v1.1.0/version_1/agnz_train.pkl')\n",
    "df_dev.to_pickle('/data/blackbase/notebooks/physics/sicong/AGN_Redshift_Predictor/version_v1.1.0/version_1/agnz_dev.pkl')"
   ]
  },
  {
   "cell_type": "code",
   "execution_count": 162,
   "metadata": {},
   "outputs": [],
   "source": [
    "df_train = pd.read_pickle('/data/blackbase/notebooks/physics/sicong/AGN_Redshift_Predictor/version_v1.1.0/version_1/agnz_train.pkl')\n",
    "df_dev = pd.read_pickle('/data/blackbase/notebooks/physics/sicong/AGN_Redshift_Predictor/version_v1.1.0/version_1/agnz_dev.pkl')"
   ]
  }
 ],
 "metadata": {
  "kernelspec": {
   "display_name": "Python 3.6.5 64-bit",
   "language": "python",
   "name": "python36564bit93b81c14a79841988c96843b1cebe27c"
  },
  "language_info": {
   "codemirror_mode": {
    "name": "ipython",
    "version": 3
   },
   "file_extension": ".py",
   "mimetype": "text/x-python",
   "name": "python",
   "nbconvert_exporter": "python",
   "pygments_lexer": "ipython3",
   "version": "3.6.5"
  }
 },
 "nbformat": 4,
 "nbformat_minor": 4
}
