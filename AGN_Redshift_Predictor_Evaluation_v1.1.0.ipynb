{
 "cells": [
  {
   "cell_type": "markdown",
   "id": "3b577212",
   "metadata": {},
   "source": [
    "<h1> <center><font color='green' > <b>AGN Redshift Predicetion for AGNDB</b></font> </center></h1>\n",
    "\n",
    "# Model Performance Evaluation\n",
    "by Sicong Huang <br> \\\n",
    "<font color='blue'>Python Version: 3.6.5 <br>\n",
    "AGNDB Version: 1.1.0"
   ]
  },
  {
   "cell_type": "markdown",
   "id": "d41c2c33",
   "metadata": {},
   "source": [
    "# Import"
   ]
  },
  {
   "cell_type": "code",
   "execution_count": 128,
   "id": "bd521ffa",
   "metadata": {},
   "outputs": [],
   "source": [
    "# System\n",
    "import os\n",
    "import glob\n",
    "from tqdm import tqdm\n",
    "from IPython.display import Markdown, display, Audio\n",
    "\n",
    "# Web Scraping\n",
    "\n",
    "# Data Analysis\n",
    "import pandas as pd\n",
    "import numpy as np\n",
    "\n",
    "# Machine Learning\n",
    "from scipy import stats\n",
    "import sklearn\n",
    "import joblib\n",
    "from sklearn.metrics import mean_absolute_error, mean_squared_error\n",
    "from sklearn.model_selection import GridSearchCV, StratifiedKFold\n",
    "\n",
    "# Data Visualization\n",
    "import matplotlib.pyplot as plt\n",
    "from matplotlib.pyplot import imshow\n",
    "from matplotlib.gridspec import SubplotSpec\n",
    "import seaborn as sns\n",
    "\n",
    "pd.options.display.float_format = '{:,.2f}'.format\n",
    "%matplotlib inline"
   ]
  },
  {
   "cell_type": "markdown",
   "id": "96d8c9da",
   "metadata": {},
   "source": [
    "# Functions"
   ]
  },
  {
   "cell_type": "code",
   "execution_count": 3,
   "id": "7e29346a",
   "metadata": {},
   "outputs": [],
   "source": [
    "def sound_effect(fail=0):\n",
    "    \"\"\"\n",
    "    Play a sound when job is finished\n",
    "    \"\"\"\n",
    "    if fail == 0:\n",
    "        sound_file = '/data/home/sicong/sounds/jobs-done_1.mp3'\n",
    "        display(Audio(sound_file, autoplay=True))\n",
    "    else:\n",
    "        sound_file = '/data/home/sicong/sounds/oh-shit-im-sorry_0001.mp3'\n",
    "        display(Audio(sound_file, autoplay=True))"
   ]
  },
  {
   "cell_type": "code",
   "execution_count": 4,
   "id": "ef26d507",
   "metadata": {},
   "outputs": [],
   "source": [
    "def printmd(string):\n",
    "    \"\"\"\n",
    "    print in markdown style\n",
    "    \"\"\"\n",
    "    display(Markdown(string))"
   ]
  },
  {
   "cell_type": "code",
   "execution_count": 127,
   "id": "f8a9ee2c",
   "metadata": {},
   "outputs": [],
   "source": [
    "def create_subtitle(fig: plt.Figure, grid: SubplotSpec, title: str):\n",
    "    \"Sign sets of subplots with title\"\n",
    "    row = fig.add_subplot(grid)\n",
    "    # the '\\n' is important\n",
    "    row.set_title(f'{title}\\n', fontweight='semibold')\n",
    "    # hide subplot\n",
    "    row.set_frame_on(False)\n",
    "    row.axis('off')"
   ]
  },
  {
   "cell_type": "code",
   "execution_count": 31,
   "id": "4ee5c6f3",
   "metadata": {},
   "outputs": [],
   "source": [
    "def normalized_SD(y, y_hat):    \n",
    "    \"\"\"\n",
    "    Calculate the Normalized Standard Deviation\n",
    "    \"\"\"\n",
    "    assert y.shape == y_hat.shape, 'y.shape != y_hat.shape'\n",
    "    kernel = (y_hat-y)\n",
    "    div = 1+y\n",
    "    kernel = kernel/div\n",
    "    kernel = kernel**2\n",
    "    \n",
    "    sigma = np.sqrt(np.sum(kernel)/kernel.shape[0])\n",
    "    \n",
    "    return sigma"
   ]
  },
  {
   "cell_type": "code",
   "execution_count": 32,
   "id": "883313e9",
   "metadata": {},
   "outputs": [],
   "source": [
    "def NMAD(y, y_hat):    \n",
    "    \"\"\"\n",
    "    Calculate the Normalized Median Absolute Deviation\n",
    "    \"\"\"\n",
    "    assert y.shape == y_hat.shape, 'y.shape != y_hat.shape'\n",
    "    \n",
    "    kernel = np.abs(y_hat-y)/(y+1)\n",
    "    med = np.median(kernel)\n",
    "    nmad = 1.48*med\n",
    "    \n",
    "    return nmad"
   ]
  },
  {
   "cell_type": "code",
   "execution_count": 56,
   "id": "fcbaf824",
   "metadata": {},
   "outputs": [],
   "source": [
    "def sigma_68(y, y_hat):    \n",
    "    \"\"\"\n",
    "    Calculate the width in which \n",
    "    falls the 68% of the  Δ𝑧(𝑛𝑜𝑟𝑚)  distribution\n",
    "    \"\"\"\n",
    "    assert y.shape == y_hat.shape, 'y.shape != y_hat.shape'\n",
    "    \n",
    "    kernel = (y_hat-y)/(y+1)\n",
    "    kernel = np.sort(kernel)\n",
    "    ind_16 = round(kernel.shape[0]*0.16)\n",
    "    ind_84 = round(kernel.shape[0]*0.84)\n",
    "    width = kernel[ind_84] - kernel[ind_16]\n",
    "    \n",
    "    return width"
   ]
  },
  {
   "cell_type": "code",
   "execution_count": 49,
   "id": "79dcdc9b",
   "metadata": {},
   "outputs": [],
   "source": [
    "def outlier_frac(y, y_hat):    \n",
    "    \"\"\"\n",
    "    Calculate the fraction (percentage) of outliers\n",
    "    \"\"\"\n",
    "    assert y.shape == y_hat.shape, 'y.shape != y_hat.shape'\n",
    "    \n",
    "    kernel = np.abs(y_hat-y)/(y+1)\n",
    "    y_dis = kernel[(kernel > 0.15)]\n",
    "    frac = y_dis.shape[0]/kernel.shape[0]\n",
    "    \n",
    "    return frac"
   ]
  },
  {
   "cell_type": "code",
   "execution_count": 78,
   "id": "eda2591e",
   "metadata": {},
   "outputs": [],
   "source": [
    "def accuracy(y_true, y_pred):\n",
    "    \"\"\"\n",
    "    calculate the accuracy based on mean absolute percentage error\n",
    "    \"\"\"\n",
    "    # Calculate the absolute errors\n",
    "    errors = abs(y_pred - y_true)\n",
    "\n",
    "    # Calculate mean absolute percentage error (MAPE)\n",
    "    mape = 100 * (errors / y_true)\n",
    "    # Calculate and display accuracy\n",
    "    accuracy = 100 - np.mean(mape)\n",
    "    accuracy = str(round(accuracy, 2))+'%' \n",
    "    return accuracy "
   ]
  },
  {
   "cell_type": "markdown",
   "id": "0415eab3",
   "metadata": {},
   "source": [
    "# Read train/dev/test sets"
   ]
  },
  {
   "cell_type": "code",
   "execution_count": 52,
   "id": "470944a8",
   "metadata": {},
   "outputs": [],
   "source": [
    "df_train = pd.read_pickle('agnz_train.pkl')\n",
    "df_dev = pd.read_pickle('agnz_dev.pkl')"
   ]
  },
  {
   "cell_type": "code",
   "execution_count": 53,
   "id": "a06adc8b",
   "metadata": {},
   "outputs": [],
   "source": [
    "# True lables\n",
    "y_train = np.array(df_train['best_z'])\n",
    "y_dev = np.array(df_dev['best_z'])"
   ]
  },
  {
   "cell_type": "markdown",
   "id": "f1eccf57",
   "metadata": {},
   "source": [
    "# Read results"
   ]
  },
  {
   "cell_type": "code",
   "execution_count": 54,
   "id": "f2e2ccba",
   "metadata": {},
   "outputs": [],
   "source": [
    "# Logestic Regression\n",
    "%store -r yhat_train_lr\n",
    "%store -r yhat_dev_lr\n",
    "\n",
    "# Decision Tree\n",
    "%store -r yhat_train_rf\n",
    "%store -r yhat_dev_rf\n",
    "\n",
    "# KNN\n",
    "%store -r yhat_train_knn\n",
    "%store -r yhat_dev_knn\n",
    "\n",
    "# CNN\n",
    "%store -r yhat_train_nn\n",
    "%store -r yhat_dev_nn"
   ]
  },
  {
   "cell_type": "markdown",
   "id": "eeb14788",
   "metadata": {},
   "source": [
    "# Model Evaluation"
   ]
  },
  {
   "cell_type": "markdown",
   "id": "bea2e803",
   "metadata": {},
   "source": [
    "## Metrics\n",
    "\n",
    "$\\hat{y}$ is the predicted value of the i-th sample, and \n",
    "y is the corresponding true value."
   ]
  },
  {
   "cell_type": "markdown",
   "id": "bafa81ee",
   "metadata": {},
   "source": [
    "1. <font color='green'>Mean Absolute Error (L1 norm loss)</font>: \n",
    "    \\begin{equation}\n",
    "    MAE(y,\\hat{y}) = \\frac{1}{N}\\sum^{N}|\\hat{y}_{i} - y_i|\n",
    "    \\end{equation}\n",
    "\n",
    "2. <font color='green'>Normalized Standard Deviation </font>:\n",
    "    - defined as:\n",
    "    \\begin{equation}\n",
    "    \\sigma_{\\Delta z(norm)} = \\sqrt{\\frac{1}{N}\\sum^{N}(\\frac{\\hat{y}_{i} - y_i}{y_i+1})^2}\n",
    "    \\end{equation}\n",
    "    - Punish large error\n",
    "\n",
    "3. <font color='green'>Normalized Median Absolute Deviation (NMAD) </font>: \n",
    "    - defined as:\n",
    "    \\begin{equation}\n",
    "    \\sigma_{NMAD} = 1.48 \\times median|\\frac{\\hat{y} - y}{y+1}|\n",
    "    \\end{equation}\n",
    "    - Measure variance\n",
    "\n",
    "4. <font color='green'>68% Width </font>: \n",
    "    - defined as the width in which falls the 68% of the $\\Delta z(norm)$ distribution:\n",
    "\n",
    "5. <font color='green'> Outlier fraction </font>: \n",
    "    - defined as:\n",
    "    \\begin{equation}\n",
    "    \\eta = \\textrm{fraction of } |\\frac{\\hat{y} - y}{y+1}| > 0.15\n",
    "    \\end{equation}\n",
    "    - the fraction (percentage) of outliers\n",
    "    \n",
    "5. <font color='green'> Accuracy </font>: \n",
    "    - defined as:\n",
    "    \\begin{equation}\n",
    "    \\textrm{Accuracy} = 1 - \\textrm{MAPE} = 1 - \\frac{1}{N} \\sum^{N}\\frac{|\\hat{y}_i - y_i|}{y_i} \n",
    "    \\end{equation}\n",
    "    - the fraction (percentage) of outliers"
   ]
  },
  {
   "cell_type": "markdown",
   "id": "e202805d",
   "metadata": {},
   "source": [
    "### Evaluate on Validation Set"
   ]
  },
  {
   "cell_type": "code",
   "execution_count": 79,
   "id": "a6f6b498",
   "metadata": {},
   "outputs": [],
   "source": [
    "# Linear Regression\n",
    "mae_dev_lr = mean_absolute_error(y_dev, yhat_dev_lr)\n",
    "nsd_dev_lr = normalized_SD(y_dev, yhat_dev_lr)\n",
    "nmad_dev_lr = NMAD(y_dev, yhat_dev_lr)\n",
    "w68_dev_lr = sigma_68(y_dev, yhat_dev_lr)\n",
    "out_dev_lr = outlier_frac(y_dev, yhat_dev_lr)\n",
    "acc_dev_lr = accuracy(y_dev, yhat_dev_lr)\n",
    "\n",
    "# Random Forest\n",
    "mae_dev_rf = mean_absolute_error(y_dev, yhat_dev_rf)\n",
    "nsd_dev_rf = normalized_SD(y_dev, yhat_dev_rf)\n",
    "nmad_dev_rf = NMAD(y_dev, yhat_dev_rf)\n",
    "w68_dev_rf = sigma_68(y_dev, yhat_dev_rf)\n",
    "out_dev_rf = outlier_frac(y_dev, yhat_dev_rf)\n",
    "acc_dev_rf = accuracy(y_dev, yhat_dev_rf)\n",
    "\n",
    "# KNN\n",
    "mae_dev_knn = mean_absolute_error(y_dev, yhat_dev_knn)\n",
    "nsd_dev_knn = normalized_SD(y_dev, yhat_dev_knn)\n",
    "nmad_dev_knn = NMAD(y_dev, yhat_dev_knn)\n",
    "w68_dev_knn = sigma_68(y_dev, yhat_dev_knn)\n",
    "out_dev_knn = outlier_frac(y_dev, yhat_dev_knn)\n",
    "acc_dev_knn = accuracy(y_dev, yhat_dev_knn)\n",
    "\n",
    "# Z_NN\n",
    "mae_dev_nn = mean_absolute_error(y_dev, yhat_dev_nn)\n",
    "nsd_dev_nn = normalized_SD(y_dev, yhat_dev_nn)\n",
    "nmad_dev_nn = NMAD(y_dev, yhat_dev_nn)\n",
    "w68_dev_nn = sigma_68(y_dev, yhat_dev_nn)\n",
    "out_dev_nn = outlier_frac(y_dev, yhat_dev_nn)\n",
    "acc_dev_nn = accuracy(y_dev, yhat_dev_nn)"
   ]
  },
  {
   "cell_type": "markdown",
   "id": "d79d88fd",
   "metadata": {},
   "source": [
    "### Evaluate on Training Set"
   ]
  },
  {
   "cell_type": "code",
   "execution_count": 80,
   "id": "59aa2fba",
   "metadata": {},
   "outputs": [],
   "source": [
    "# Linear Regression\n",
    "mae_train_lr = mean_absolute_error(y_train, yhat_train_lr)\n",
    "nsd_train_lr = normalized_SD(y_train, yhat_train_lr)\n",
    "nmad_train_lr = NMAD(y_train, yhat_train_lr)\n",
    "w68_train_lr = sigma_68(y_train, yhat_train_lr)\n",
    "out_train_lr = outlier_frac(y_train, yhat_train_lr)\n",
    "acc_train_lr = accuracy(y_train, yhat_train_lr)\n",
    "\n",
    "# Random Forest\n",
    "mae_train_rf = mean_absolute_error(y_train, yhat_train_rf)\n",
    "nsd_train_rf = normalized_SD(y_train, yhat_train_rf)\n",
    "nmad_train_rf = NMAD(y_train, yhat_train_rf)\n",
    "w68_train_rf = sigma_68(y_train, yhat_train_rf)\n",
    "out_train_rf = outlier_frac(y_train, yhat_train_rf)\n",
    "acc_train_rf = accuracy(y_train, yhat_train_rf)\n",
    "\n",
    "# KNN\n",
    "mae_train_knn = mean_absolute_error(y_train, yhat_train_knn)\n",
    "nsd_train_knn = normalized_SD(y_train, yhat_train_knn)\n",
    "nmad_train_knn = NMAD(y_train, yhat_train_knn)\n",
    "w68_train_knn = sigma_68(y_train, yhat_train_knn)\n",
    "out_train_knn = outlier_frac(y_train, yhat_train_knn)\n",
    "acc_train_knn = accuracy(y_train, yhat_train_knn)\n",
    "\n",
    "# Z_NN\n",
    "mae_train_nn = mean_absolute_error(y_train, yhat_train_nn)\n",
    "nsd_train_nn = normalized_SD(y_train, yhat_train_nn)\n",
    "nmad_train_nn = NMAD(y_train, yhat_train_nn)\n",
    "w68_train_nn = sigma_68(y_train, yhat_train_nn)\n",
    "out_train_nn = outlier_frac(y_train, yhat_train_nn)\n",
    "acc_train_nn = accuracy(y_train, yhat_train_nn)"
   ]
  },
  {
   "cell_type": "code",
   "execution_count": 104,
   "id": "4c5e00e9",
   "metadata": {},
   "outputs": [],
   "source": [
    "metric_data = np.array((['Linear Regression', 'Train', mae_train_lr, nsd_train_lr, nmad_train_lr, w68_train_lr, out_train_lr, acc_train_lr],\n",
    "                        ['Linear Regression', 'Validation', mae_dev_lr, nsd_dev_lr, nmad_dev_lr, w68_dev_lr, out_dev_lr, acc_dev_lr],\n",
    "                        ['Random Forest', 'Train', mae_train_rf, nsd_train_rf, nmad_train_rf, w68_train_rf, out_train_rf, acc_train_rf],\n",
    "                        ['Random Forest', 'Validation', mae_dev_rf, nsd_dev_rf, nmad_dev_rf, w68_dev_rf, out_dev_rf, acc_dev_rf],\n",
    "                        ['KNN', 'Train', mae_train_knn, nsd_train_knn, nmad_train_knn, w68_train_knn, out_train_knn, acc_train_knn],\n",
    "                        ['KNN', 'Validation', mae_dev_knn, nsd_dev_knn, nmad_dev_knn, w68_dev_knn, out_dev_knn, acc_dev_knn],\n",
    "                        ['Neural Network', 'Train', mae_train_nn, nsd_train_nn, nmad_train_nn, w68_train_nn, out_train_nn, acc_train_nn],\n",
    "                        ['Neural Network', 'Validation',mae_dev_nn, nsd_dev_nn, nmad_dev_nn, w68_dev_nn, out_dev_nn, acc_dev_nn]))\n",
    "\n",
    "df_scores = pd.DataFrame(metric_data, \n",
    "            columns=['Algorithm', 'Set', 'MAE', r'$\\sigma_{\\Delta z}$', \n",
    "                     r'NMAD', '68% Width', r'$\\eta$', 'Accuracy'])\n",
    "for col in df_scores.columns.values:\n",
    "    if col not in ['Algorithm', 'Set', 'Accuracy']:\n",
    "        df_scores[col] = df_scores[col].astype(float)"
   ]
  },
  {
   "cell_type": "code",
   "execution_count": 105,
   "id": "a2a33e0a",
   "metadata": {},
   "outputs": [],
   "source": [
    "df_scores.to_csv('./results/scores.csv', index=False)"
   ]
  },
  {
   "cell_type": "code",
   "execution_count": 106,
   "id": "082c8be4",
   "metadata": {},
   "outputs": [],
   "source": [
    "df_scores = pd.read_csv('./results/scores.csv')"
   ]
  },
  {
   "cell_type": "code",
   "execution_count": 107,
   "id": "e5a86361",
   "metadata": {},
   "outputs": [
    {
     "data": {
      "text/html": [
       "<div>\n",
       "<style scoped>\n",
       "    .dataframe tbody tr th:only-of-type {\n",
       "        vertical-align: middle;\n",
       "    }\n",
       "\n",
       "    .dataframe tbody tr th {\n",
       "        vertical-align: top;\n",
       "    }\n",
       "\n",
       "    .dataframe thead th {\n",
       "        text-align: right;\n",
       "    }\n",
       "</style>\n",
       "<table border=\"1\" class=\"dataframe\">\n",
       "  <thead>\n",
       "    <tr style=\"text-align: right;\">\n",
       "      <th></th>\n",
       "      <th>Algorithm</th>\n",
       "      <th>Set</th>\n",
       "      <th>MAE</th>\n",
       "      <th>$\\sigma_{\\Delta z}$</th>\n",
       "      <th>NMAD</th>\n",
       "      <th>68% Width</th>\n",
       "      <th>$\\eta$</th>\n",
       "      <th>Accuracy</th>\n",
       "    </tr>\n",
       "  </thead>\n",
       "  <tbody>\n",
       "    <tr>\n",
       "      <th>0</th>\n",
       "      <td>Linear Regression</td>\n",
       "      <td>Train</td>\n",
       "      <td>0.26</td>\n",
       "      <td>0.17</td>\n",
       "      <td>0.10</td>\n",
       "      <td>0.23</td>\n",
       "      <td>0.21</td>\n",
       "      <td>76.5%</td>\n",
       "    </tr>\n",
       "    <tr>\n",
       "      <th>1</th>\n",
       "      <td>Linear Regression</td>\n",
       "      <td>Validation</td>\n",
       "      <td>0.27</td>\n",
       "      <td>0.24</td>\n",
       "      <td>0.10</td>\n",
       "      <td>0.22</td>\n",
       "      <td>0.21</td>\n",
       "      <td>76.49%</td>\n",
       "    </tr>\n",
       "    <tr>\n",
       "      <th>2</th>\n",
       "      <td>Random Forest</td>\n",
       "      <td>Train</td>\n",
       "      <td>0.08</td>\n",
       "      <td>0.06</td>\n",
       "      <td>0.03</td>\n",
       "      <td>0.06</td>\n",
       "      <td>0.03</td>\n",
       "      <td>93.23%</td>\n",
       "    </tr>\n",
       "    <tr>\n",
       "      <th>3</th>\n",
       "      <td>Random Forest</td>\n",
       "      <td>Validation</td>\n",
       "      <td>0.21</td>\n",
       "      <td>0.15</td>\n",
       "      <td>0.07</td>\n",
       "      <td>0.16</td>\n",
       "      <td>0.14</td>\n",
       "      <td>82.35%</td>\n",
       "    </tr>\n",
       "    <tr>\n",
       "      <th>4</th>\n",
       "      <td>KNN</td>\n",
       "      <td>Train</td>\n",
       "      <td>0.23</td>\n",
       "      <td>0.15</td>\n",
       "      <td>0.08</td>\n",
       "      <td>0.19</td>\n",
       "      <td>0.17</td>\n",
       "      <td>79.75%</td>\n",
       "    </tr>\n",
       "    <tr>\n",
       "      <th>5</th>\n",
       "      <td>KNN</td>\n",
       "      <td>Validation</td>\n",
       "      <td>0.25</td>\n",
       "      <td>0.16</td>\n",
       "      <td>0.09</td>\n",
       "      <td>0.21</td>\n",
       "      <td>0.19</td>\n",
       "      <td>78.96%</td>\n",
       "    </tr>\n",
       "    <tr>\n",
       "      <th>6</th>\n",
       "      <td>Neural Network</td>\n",
       "      <td>Train</td>\n",
       "      <td>0.16</td>\n",
       "      <td>0.13</td>\n",
       "      <td>0.05</td>\n",
       "      <td>0.10</td>\n",
       "      <td>0.08</td>\n",
       "      <td>86.73%</td>\n",
       "    </tr>\n",
       "    <tr>\n",
       "      <th>7</th>\n",
       "      <td>Neural Network</td>\n",
       "      <td>Validation</td>\n",
       "      <td>0.17</td>\n",
       "      <td>0.14</td>\n",
       "      <td>0.05</td>\n",
       "      <td>0.11</td>\n",
       "      <td>0.09</td>\n",
       "      <td>86.05%</td>\n",
       "    </tr>\n",
       "  </tbody>\n",
       "</table>\n",
       "</div>"
      ],
      "text/plain": [
       "           Algorithm         Set  MAE  $\\sigma_{\\Delta z}$  NMAD  68% Width  \\\n",
       "0  Linear Regression       Train 0.26                 0.17  0.10       0.23   \n",
       "1  Linear Regression  Validation 0.27                 0.24  0.10       0.22   \n",
       "2      Random Forest       Train 0.08                 0.06  0.03       0.06   \n",
       "3      Random Forest  Validation 0.21                 0.15  0.07       0.16   \n",
       "4                KNN       Train 0.23                 0.15  0.08       0.19   \n",
       "5                KNN  Validation 0.25                 0.16  0.09       0.21   \n",
       "6     Neural Network       Train 0.16                 0.13  0.05       0.10   \n",
       "7     Neural Network  Validation 0.17                 0.14  0.05       0.11   \n",
       "\n",
       "   $\\eta$ Accuracy  \n",
       "0    0.21    76.5%  \n",
       "1    0.21   76.49%  \n",
       "2    0.03   93.23%  \n",
       "3    0.14   82.35%  \n",
       "4    0.17   79.75%  \n",
       "5    0.19   78.96%  \n",
       "6    0.08   86.73%  \n",
       "7    0.09   86.05%  "
      ]
     },
     "execution_count": 107,
     "metadata": {},
     "output_type": "execute_result"
    }
   ],
   "source": [
    "df_scores"
   ]
  },
  {
   "cell_type": "markdown",
   "id": "af59a57f",
   "metadata": {},
   "source": [
    "### Actual vs Fitted Values for Redshift"
   ]
  },
  {
   "cell_type": "code",
   "execution_count": 130,
   "id": "ae37c111",
   "metadata": {},
   "outputs": [
    {
     "data": {
      "image/png": "[encoded data removed]",
      "text/plain": [
       "<Figure size 1080x1080 with 12 Axes>"
      ]
     },
     "metadata": {
      "needs_background": "light"
     },
     "output_type": "display_data"
    }
   ],
   "source": [
    "fig, axes = plt.subplots(4, 2, sharey=True, figsize=(15, 15))\n",
    "# linear regression\n",
    "sns.kdeplot(x=y_train, ax=axes[0,0], color=\"r\", label=\"Actual Value\")\n",
    "sns.kdeplot(x=yhat_train_lr, ax=axes[0,0], color=\"b\", label=\"Fitted Values\" )\n",
    "axes[0,0].set_title('Actual vs Fitted Values for Redshift in Train Set')\n",
    "\n",
    "sns.kdeplot(x=y_dev, ax=axes[0,1], color=\"r\", label=\"Actual Value\")\n",
    "sns.kdeplot(x=yhat_dev_lr, ax=axes[0,1], color=\"b\", label=\"Fitted Values\")\n",
    "axes[0,1].set_title('Actual vs Fitted Values for Redshift in Dev Set')\n",
    "\n",
    "axes[0,0].legend()\n",
    "axes[0,1].legend()\n",
    "\n",
    "# Random Forest\n",
    "sns.kdeplot(x=y_train, ax=axes[1,0], color=\"r\", label=\"Actual Value\")\n",
    "sns.kdeplot(x=yhat_train_rf, ax=axes[1,0], color=\"b\", label=\"Fitted Values\" )\n",
    "#axes[1,0].set_title('Actual vs Fitted Values for Redshift in Train Set')\n",
    "\n",
    "sns.kdeplot(x=y_dev, ax=axes[1,1], color=\"r\", label=\"Actual Value\")\n",
    "sns.kdeplot(x=yhat_dev_rf, ax=axes[1,1], color=\"b\", label=\"Fitted Values\")\n",
    "#axes[1,1].set_title('Actual vs Fitted Values for Redshift in Dev Set')\n",
    "\n",
    "axes[1,0].legend()\n",
    "axes[1,1].legend()\n",
    "\n",
    "# KNN\n",
    "sns.kdeplot(x=y_train, ax=axes[2,0], color=\"r\", label=\"Actual Value\")\n",
    "sns.kdeplot(x=yhat_train_knn, ax=axes[2,0], color=\"b\", label=\"Fitted Values\" )\n",
    "#axes[2,0].set_title('Actual vs Fitted Values for Redshift in Train Set')\n",
    "\n",
    "sns.kdeplot(x=y_dev, ax=axes[2,1], color=\"r\", label=\"Actual Value\")\n",
    "sns.kdeplot(x=yhat_dev_knn, ax=axes[2,1], color=\"b\", label=\"Fitted Values\")\n",
    "#axes[2,1].set_title('Actual vs Fitted Values for Redshift in Dev Set')\n",
    "\n",
    "axes[2,0].legend()\n",
    "axes[2,1].legend()\n",
    "\n",
    "# ZNN\n",
    "sns.kdeplot(x=y_train, ax=axes[3,0], color=\"r\", label=\"Actual Value\")\n",
    "sns.kdeplot(x=yhat_train_nn, ax=axes[3,0], color=\"b\", label=\"Fitted Values\" )\n",
    "#axes[3,0].set_title('Actual vs Fitted Values for Redshift in Train Set')\n",
    "\n",
    "sns.kdeplot(x=y_dev, ax=axes[3,1], color=\"r\", label=\"Actual Value\")\n",
    "sns.kdeplot(x=yhat_dev_nn, ax=axes[3,1], color=\"b\", label=\"Fitted Values\")\n",
    "#axes[3,1].set_title('Actual vs Fitted Values for Redshift in Dev Set')\n",
    "\n",
    "axes[3,0].legend()\n",
    "axes[3,1].legend()\n",
    "\n",
    "grid = plt.GridSpec(4, 2)\n",
    "create_subtitle(fig, grid[0, ::], 'Linear Regression')\n",
    "create_subtitle(fig, grid[1, ::], 'Random Forest')\n",
    "create_subtitle(fig, grid[2, ::], 'KNN')\n",
    "create_subtitle(fig, grid[3, ::], 'Neural Network')\n",
    "\n",
    "plt.savefig('./results/z_dist.pdf', dpi=300)\n",
    "plt.show();"
   ]
  },
  {
   "cell_type": "markdown",
   "id": "1100f472",
   "metadata": {},
   "source": [
    "# Result\n",
    "Version 1: agnz_train.pkl"
   ]
  },
  {
   "cell_type": "markdown",
   "id": "bd328837",
   "metadata": {},
   "source": [
    "<font color='blue'>Conclusion:</font>\n",
    "- The best performance overall goes to Neural Network, with accuracy ~ 86% for both training and dev set. \n",
    "- The random forest achieves 93% accuracy for training set, but drops down to 82% for dev set, indicating overfitting. Try to tune parameters and limit the size of the trees.\n",
    "- The linear regression performs poorly in our case, possilbly due to failure to model the redshift distribution, and also extreme values appear in dev set prediction.\n",
    "    \n",
    "<font color='blue'>Possible Improvement:</font>\n",
    "- The distribution of redshift is not Gaussian, maybe getting more data would help."
   ]
  },
  {
   "cell_type": "code",
   "execution_count": null,
   "id": "469a7399",
   "metadata": {},
   "outputs": [],
   "source": []
  }
 ],
 "metadata": {
  "kernelspec": {
   "display_name": "Python 3.6.5 64-bit",
   "language": "python",
   "name": "python36564bit93b81c14a79841988c96843b1cebe27c"
  },
  "language_info": {
   "codemirror_mode": {
    "name": "ipython",
    "version": 3
   },
   "file_extension": ".py",
   "mimetype": "text/x-python",
   "name": "python",
   "nbconvert_exporter": "python",
   "pygments_lexer": "ipython3",
   "version": "3.6.5"
  }
 },
 "nbformat": 4,
 "nbformat_minor": 5
}
